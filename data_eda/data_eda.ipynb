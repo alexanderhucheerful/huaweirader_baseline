{
 "cells": [
  {
   "cell_type": "code",
   "execution_count": null,
   "metadata": {},
   "outputs": [],
   "source": [
    "本程序提供标准的针对本次数据集的数据eda，请在本程序提供的接口下进行data analysis，不要重新创建新的ipdb程序(在本程序中完成分析工作)\n",
    "训练集和测试集数据均以dataframe格式给出，pytorch自定义datasets类接受dataframe的索引以npy格式保存，分析后的分类型训练的索引需要在filter_dbz.py\n",
    "中修改，这里只给出demo"
   ]
  },
  {
   "cell_type": "code",
   "execution_count": 20,
   "metadata": {},
   "outputs": [],
   "source": [
    "#以下程序提供一个简单的数据 demo\n",
    "import pandas as pd\n",
    "train_pd = '/media/workdir/hujh/hujh-new/huaweirader_baseline/data_eda/train_all_pkl.pkl'\n",
    "test_pd = '/media/workdir/hujh/hujh-new/huaweirader_baseline/data_eda/test_all_pkl.pkl'\n",
    "\n",
    "train_df = pd.read_pickle(train_pd)\n",
    "test_df = pd.read_pickle(test_pd)"
   ]
  },
  {
   "cell_type": "code",
   "execution_count": 21,
   "metadata": {},
   "outputs": [
    {
     "name": "stdout",
     "output_type": "stream",
     "text": [
      "(820000, 1)\n",
      "                                               fname\n",
      "0  /media/data/huaweiraderdata/train/train_all/RA...\n",
      "1  /media/data/huaweiraderdata/train/train_all/RA...\n",
      "2  /media/data/huaweiraderdata/train/train_all/RA...\n",
      "3  /media/data/huaweiraderdata/train/train_all/RA...\n",
      "4  /media/data/huaweiraderdata/train/train_all/RA...\n",
      "5  /media/data/huaweiraderdata/train/train_all/RA...\n",
      "6  /media/data/huaweiraderdata/train/train_all/RA...\n",
      "7  /media/data/huaweiraderdata/train/train_all/RA...\n",
      "8  /media/data/huaweiraderdata/train/train_all/RA...\n",
      "9  /media/data/huaweiraderdata/train/train_all/RA...\n",
      "------------------------\n",
      "(63000, 1)\n",
      "                                               fname\n",
      "0  /media/data/huaweiraderdata/test/test_all/RAD_...\n",
      "1  /media/data/huaweiraderdata/test/test_all/RAD_...\n",
      "2  /media/data/huaweiraderdata/test/test_all/RAD_...\n",
      "3  /media/data/huaweiraderdata/test/test_all/RAD_...\n",
      "4  /media/data/huaweiraderdata/test/test_all/RAD_...\n",
      "5  /media/data/huaweiraderdata/test/test_all/RAD_...\n",
      "6  /media/data/huaweiraderdata/test/test_all/RAD_...\n",
      "7  /media/data/huaweiraderdata/test/test_all/RAD_...\n",
      "8  /media/data/huaweiraderdata/test/test_all/RAD_...\n",
      "9  /media/data/huaweiraderdata/test/test_all/RAD_...\n"
     ]
    },
    {
     "data": {
      "text/html": [
       "<div>\n",
       "<style scoped>\n",
       "    .dataframe tbody tr th:only-of-type {\n",
       "        vertical-align: middle;\n",
       "    }\n",
       "\n",
       "    .dataframe tbody tr th {\n",
       "        vertical-align: top;\n",
       "    }\n",
       "\n",
       "    .dataframe thead th {\n",
       "        text-align: right;\n",
       "    }\n",
       "</style>\n",
       "<table border=\"1\" class=\"dataframe\">\n",
       "  <thead>\n",
       "    <tr style=\"text-align: right;\">\n",
       "      <th></th>\n",
       "      <th>fname</th>\n",
       "    </tr>\n",
       "  </thead>\n",
       "  <tbody>\n",
       "    <tr>\n",
       "      <th>count</th>\n",
       "      <td>63000</td>\n",
       "    </tr>\n",
       "    <tr>\n",
       "      <th>unique</th>\n",
       "      <td>63000</td>\n",
       "    </tr>\n",
       "    <tr>\n",
       "      <th>top</th>\n",
       "      <td>/media/data/huaweiraderdata/test/test_all/RAD_...</td>\n",
       "    </tr>\n",
       "    <tr>\n",
       "      <th>freq</th>\n",
       "      <td>1</td>\n",
       "    </tr>\n",
       "  </tbody>\n",
       "</table>\n",
       "</div>"
      ],
      "text/plain": [
       "                                                    fname\n",
       "count                                               63000\n",
       "unique                                              63000\n",
       "top     /media/data/huaweiraderdata/test/test_all/RAD_...\n",
       "freq                                                    1"
      ]
     },
     "execution_count": 21,
     "metadata": {},
     "output_type": "execute_result"
    }
   ],
   "source": [
    "#sample imformation excavate\n",
    "print(train_df.shape)\n",
    "print(train_df.head(10))\n",
    "train_df.describe()\n",
    "print(\"------------------------\")\n",
    "print(test_df.shape)\n",
    "print(test_df.head(10))\n",
    "test_df.describe()"
   ]
  },
  {
   "cell_type": "code",
   "execution_count": 22,
   "metadata": {},
   "outputs": [
    {
     "data": {
      "text/plain": [
       "array(['/media/data/huaweiraderdata/train/train_all/RAD_184392561770451/RAD_184392561770451_000.png'],\n",
       "      dtype=object)"
      ]
     },
     "execution_count": 22,
     "metadata": {},
     "output_type": "execute_result"
    }
   ],
   "source": [
    "train_df.values[0]"
   ]
  },
  {
   "cell_type": "code",
   "execution_count": 48,
   "metadata": {},
   "outputs": [
    {
     "data": {
      "text/plain": [
       "'RAD_184392561770451'"
      ]
     },
     "execution_count": 48,
     "metadata": {},
     "output_type": "execute_result"
    }
   ],
   "source": [
    "train_df['fname'].keys()[0][0]"
   ]
  },
  {
   "cell_type": "code",
   "execution_count": 23,
   "metadata": {},
   "outputs": [],
   "source": [
    "#二次检查排序方式\n",
    "checkorigan_df = train_df\n",
    "checksort_df = train_df.sort_values(by=['fname'])\n",
    "assert (checkorigan_df.values == checksort_df .values).all()"
   ]
  },
  {
   "cell_type": "code",
   "execution_count": 24,
   "metadata": {},
   "outputs": [],
   "source": [
    "#重新制索引用来聚类分析\n",
    "train_index = list(map(lambda x:x[0].split('/')[-2],train_df.values))\n",
    "train_df.index = [train_index,train_index]\n",
    "train_df.index.names=['index0','index1']\n",
    "\n",
    "test_index = list(map(lambda x:x[0].split('/')[-2],test_df.values))\n",
    "test_df.index = [test_index,test_index]\n",
    "test_df.index.names=['index0','index1']"
   ]
  },
  {
   "cell_type": "code",
   "execution_count": 37,
   "metadata": {},
   "outputs": [
    {
     "data": {
      "text/plain": [
       "array(['/media/data/huaweiraderdata/train/train_all/RAD_184392561770451/RAD_184392561770451_000.png'],\n",
       "      dtype=object)"
      ]
     },
     "execution_count": 37,
     "metadata": {},
     "output_type": "execute_result"
    }
   ],
   "source": [
    "train_df.values[0]"
   ]
  },
  {
   "cell_type": "code",
   "execution_count": 26,
   "metadata": {},
   "outputs": [
    {
     "data": {
      "text/html": [
       "<div>\n",
       "<style scoped>\n",
       "    .dataframe tbody tr th:only-of-type {\n",
       "        vertical-align: middle;\n",
       "    }\n",
       "\n",
       "    .dataframe tbody tr th {\n",
       "        vertical-align: top;\n",
       "    }\n",
       "\n",
       "    .dataframe thead tr th {\n",
       "        text-align: left;\n",
       "    }\n",
       "</style>\n",
       "<table border=\"1\" class=\"dataframe\">\n",
       "  <thead>\n",
       "    <tr>\n",
       "      <th></th>\n",
       "      <th>index1</th>\n",
       "      <th colspan=\"4\" halign=\"left\">fname</th>\n",
       "    </tr>\n",
       "    <tr>\n",
       "      <th></th>\n",
       "      <th></th>\n",
       "      <th>count</th>\n",
       "      <th>unique</th>\n",
       "      <th>top</th>\n",
       "      <th>freq</th>\n",
       "    </tr>\n",
       "  </thead>\n",
       "  <tbody>\n",
       "  </tbody>\n",
       "</table>\n",
       "</div>"
      ],
      "text/plain": [
       "Empty DataFrame\n",
       "Columns: [(index1, ), (fname, count), (fname, unique), (fname, top), (fname, freq)]\n",
       "Index: []"
      ]
     },
     "execution_count": 26,
     "metadata": {},
     "output_type": "execute_result"
    }
   ],
   "source": [
    "#三次检查每一组样本是否都是41个文件，不是则drop\n",
    "df = train_df.groupby(['index1']).describe().reset_index()\n",
    "df[df['fname']['count'].values != 41].index\n",
    "df.loc[lambda df: df['fname']['count'].values != 41, :]\n",
    "#说明本次数据集无缺失文件"
   ]
  },
  {
   "cell_type": "code",
   "execution_count": 34,
   "metadata": {},
   "outputs": [
    {
     "name": "stdout",
     "output_type": "stream",
     "text": [
      "20000\n",
      "3000\n"
     ]
    }
   ],
   "source": [
    "#下面给出最简单的返回训练索引的demo，这个函数封装在filter_dbz中，数据eda需要分析后对返回的训练数据索引进行分类或者其他操作，分析后对\n",
    "#对filter_dbz类的方法进行扩充，这里只给出最简单的demo---即不进行数据分型所有样本均参与训练\n",
    "#即用前两个小时的数据预测后两个小时，input的长度为10间隔为12分钟，所以每个样本只返回初始时刻的下标索引t0\n",
    "#整个样本seq input(t0，t0+12,t0+24,...t0+120),target(t0+150min,t0+180min,t0+220min,t0+240min)的加载在datasets.py中进行\n",
    "from pathos.multiprocessing import ProcessingPool as Pool\n",
    "#字符串--》41个样本对应的序号范围0-40\n",
    "def splitstr_int(var):\n",
    "    if var[0].split('/')[-1].split('.')[0][-2] == 0:\n",
    "        var = int(var[0].split('/')[-1].split('.')[0][-1:])\n",
    "    else:\n",
    "        var = int(var[0].split('/')[-1].split('.')[0][-2:])\n",
    "    return var\n",
    "train_number_list = list(map(splitstr_int,train_df.values))\n",
    "test_number_list = list(map(splitstr_int,test_df.values))\n",
    "#因为一个训练样本包含41个图片时长为4h，考虑到一个seq就需要4h所以无法在样本内进行滑窗切割数据集，只需要返回初始下标即可，即x[1]==0\n",
    "train_number_list = list(filter(lambda x:x[1]==0,enumerate(train_number_list)))\n",
    "test_number_list = list(filter(lambda x:x[1]==0,enumerate(test_number_list)))\n",
    "print(len(train_number_list))\n",
    "print(len(test_number_list))\n",
    "\n",
    "\n",
    "\n",
    "\n"
   ]
  },
  {
   "cell_type": "code",
   "execution_count": 36,
   "metadata": {},
   "outputs": [],
   "source": [
    "#下面给出一种筛选研究的方法demo即我只筛选20dbz回波面积占1/3以上的样本作为classfiy1（中等回波强度过程），即数据分析分型后在这个方法里修改\n",
    "#判定条件，作为classfiy的数据集训练对应模型在inference的时候判断从而选择何种classfiy模型\n",
    "import PIL.Image as Image\n",
    "import numpy as np\n",
    "def filter_pic(tid):\n",
    "    tid = tid[0]\n",
    "    frame = np.array(Image.open(os.path.join(self.rootdir, self._df['fname'][tid])))\n",
    "    #缺测值为255我是直接将其滤成0不知道有没有其他好一点的办法，或者random一个0-80dbz的数值\n",
    "    frame[frame>=80.5] = 0\n",
    "    #print(frame)\n",
    "    count  = (frame > 20)\n",
    "    #print(self.threshold)\n",
    "    counts = np.logical_and(count,True).sum()\n",
    "    print(tid,'is processing')\n",
    "    if counts >=self.area:\n",
    "        x = tid\n",
    "    else:\n",
    "        x= None\n",
    "    return x\n",
    "\n",
    "#demo不进行任何操作直接返回\n",
    "def demo_pic(tid):\n",
    "    return tid[0]\n",
    "with Pool(8) as p:\n",
    "    train_list=list(p.map(demo_pic,train_number_list))\n",
    "    test_list = list(p.map(demo_pic,train_number_list))\n",
    "train_list = np.array(train_list)\n",
    "test_list  = np.array(test_list)\n",
    "#这样返回的索引就是筛选过后的\n",
    "#index_list = list(filter(lambda x:x!=None,x))\n",
    "train_savepath = '/media/workdir/hujh/hujh-new/huaweirader_baseline/data_eda/train_demo.npy'\n",
    "test_savepath = '/media/workdir/hujh/hujh-new/huaweirader_baseline/data_eda/test_demo.npy'\n",
    "save = np.save(train_savepath,train_list)\n",
    "save = np.save(test_savepath,train_list)"
   ]
  },
  {
   "cell_type": "code",
   "execution_count": 39,
   "metadata": {},
   "outputs": [],
   "source": [
    "import imageio\n",
    "im = imageio.imread('/media/data/huaweiraderdata/train/train_all/RAD_184392561770451/RAD_184392561770451_000.png')"
   ]
  },
  {
   "cell_type": "code",
   "execution_count": 44,
   "metadata": {},
   "outputs": [
    {
     "data": {
      "text/plain": [
       "50"
      ]
     },
     "execution_count": 44,
     "metadata": {},
     "output_type": "execute_result"
    }
   ],
   "source": [
    "im.shape\n",
    "im.max()"
   ]
  },
  {
   "cell_type": "code",
   "execution_count": null,
   "metadata": {},
   "outputs": [],
   "source": []
  }
 ],
 "metadata": {
  "kernelspec": {
   "display_name": "Python 3",
   "language": "python",
   "name": "python3"
  },
  "language_info": {
   "codemirror_mode": {
    "name": "ipython",
    "version": 3
   },
   "file_extension": ".py",
   "mimetype": "text/x-python",
   "name": "python",
   "nbconvert_exporter": "python",
   "pygments_lexer": "ipython3",
   "version": "3.7.3"
  }
 },
 "nbformat": 4,
 "nbformat_minor": 4
}
