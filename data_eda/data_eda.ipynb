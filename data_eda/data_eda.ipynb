{
 "cells": [
  {
   "cell_type": "code",
   "execution_count": null,
   "metadata": {},
   "outputs": [],
   "source": [
    "本程序提供标准的针对本次数据集的数据eda，请在本程序提供的接口下进行data analysis，不要重新创建新的ipdb程序(在本程序中完成分析工作)\n",
    "训练集和测试集数据均以dataframe格式给出，pytorch自定义datasets类接受dataframe的索引以npy格式保存，分析后的分类型训练的索引需要在filter_dbz.py\n",
    "中修改，这里只给出demo"
   ]
  },
  {
   "cell_type": "code",
   "execution_count": 77,
   "metadata": {},
   "outputs": [],
   "source": [
    "#以下程序提供一个简单的数据 demo\n",
    "import pandas as pd\n",
    "train_pd = '/media/workdir/hujh/hujh-new/huaweirader_baseline/data_eda/train_all_pkl.pkl'\n",
    "test_pd = '/media/workdir/hujh/hujh-new/huaweirader_baseline/data_eda/test_all_pkl.pkl'\n",
    "\n",
    "train_df = pd.read_pickle(train_pd)\n",
    "test_df = pd.read_pickle(test_pd)"
   ]
  },
  {
   "cell_type": "code",
   "execution_count": 78,
   "metadata": {},
   "outputs": [
    {
     "name": "stdout",
     "output_type": "stream",
     "text": [
      "(820000, 1)\n",
      "                                               fname\n",
      "0  /media/data/huaweiraderdata/train/train_all/RA...\n",
      "1  /media/data/huaweiraderdata/train/train_all/RA...\n",
      "2  /media/data/huaweiraderdata/train/train_all/RA...\n",
      "3  /media/data/huaweiraderdata/train/train_all/RA...\n",
      "4  /media/data/huaweiraderdata/train/train_all/RA...\n",
      "5  /media/data/huaweiraderdata/train/train_all/RA...\n",
      "6  /media/data/huaweiraderdata/train/train_all/RA...\n",
      "7  /media/data/huaweiraderdata/train/train_all/RA...\n",
      "8  /media/data/huaweiraderdata/train/train_all/RA...\n",
      "9  /media/data/huaweiraderdata/train/train_all/RA...\n",
      "------------------------\n",
      "(63000, 1)\n",
      "                                               fname\n",
      "0  /media/data/huaweiraderdata/test/test_all/RAD_...\n",
      "1  /media/data/huaweiraderdata/test/test_all/RAD_...\n",
      "2  /media/data/huaweiraderdata/test/test_all/RAD_...\n",
      "3  /media/data/huaweiraderdata/test/test_all/RAD_...\n",
      "4  /media/data/huaweiraderdata/test/test_all/RAD_...\n",
      "5  /media/data/huaweiraderdata/test/test_all/RAD_...\n",
      "6  /media/data/huaweiraderdata/test/test_all/RAD_...\n",
      "7  /media/data/huaweiraderdata/test/test_all/RAD_...\n",
      "8  /media/data/huaweiraderdata/test/test_all/RAD_...\n",
      "9  /media/data/huaweiraderdata/test/test_all/RAD_...\n"
     ]
    },
    {
     "data": {
      "text/html": [
       "<div>\n",
       "<style scoped>\n",
       "    .dataframe tbody tr th:only-of-type {\n",
       "        vertical-align: middle;\n",
       "    }\n",
       "\n",
       "    .dataframe tbody tr th {\n",
       "        vertical-align: top;\n",
       "    }\n",
       "\n",
       "    .dataframe thead th {\n",
       "        text-align: right;\n",
       "    }\n",
       "</style>\n",
       "<table border=\"1\" class=\"dataframe\">\n",
       "  <thead>\n",
       "    <tr style=\"text-align: right;\">\n",
       "      <th></th>\n",
       "      <th>fname</th>\n",
       "    </tr>\n",
       "  </thead>\n",
       "  <tbody>\n",
       "    <tr>\n",
       "      <th>count</th>\n",
       "      <td>63000</td>\n",
       "    </tr>\n",
       "    <tr>\n",
       "      <th>unique</th>\n",
       "      <td>63000</td>\n",
       "    </tr>\n",
       "    <tr>\n",
       "      <th>top</th>\n",
       "      <td>/media/data/huaweiraderdata/test/test_all/RAD_...</td>\n",
       "    </tr>\n",
       "    <tr>\n",
       "      <th>freq</th>\n",
       "      <td>1</td>\n",
       "    </tr>\n",
       "  </tbody>\n",
       "</table>\n",
       "</div>"
      ],
      "text/plain": [
       "                                                    fname\n",
       "count                                               63000\n",
       "unique                                              63000\n",
       "top     /media/data/huaweiraderdata/test/test_all/RAD_...\n",
       "freq                                                    1"
      ]
     },
     "execution_count": 78,
     "metadata": {},
     "output_type": "execute_result"
    }
   ],
   "source": [
    "#sample imformation excavate\n",
    "print(train_df.shape)\n",
    "print(train_df.head(10))\n",
    "train_df.describe()\n",
    "print(\"------------------------\")\n",
    "print(test_df.shape)\n",
    "print(test_df.head(10))\n",
    "test_df.describe()"
   ]
  },
  {
   "cell_type": "code",
   "execution_count": 22,
   "metadata": {},
   "outputs": [
    {
     "data": {
      "text/plain": [
       "array(['/media/data/huaweiraderdata/train/train_all/RAD_184392561770451/RAD_184392561770451_000.png'],\n",
       "      dtype=object)"
      ]
     },
     "execution_count": 22,
     "metadata": {},
     "output_type": "execute_result"
    }
   ],
   "source": [
    "train_df.values[0]"
   ]
  },
  {
   "cell_type": "code",
   "execution_count": 59,
   "metadata": {},
   "outputs": [
    {
     "data": {
      "text/plain": [
       "22"
      ]
     },
     "execution_count": 59,
     "metadata": {},
     "output_type": "execute_result"
    }
   ],
   "source": [
    "train_df['fname'].keys()[0][0]\n",
    "len(test_df['fname'].keys()[62978:63000])"
   ]
  },
  {
   "cell_type": "code",
   "execution_count": 79,
   "metadata": {},
   "outputs": [],
   "source": [
    "#二次检查排序方式\n",
    "checkorigan_df = train_df\n",
    "checksort_df = train_df.sort_values(by=['fname'])\n",
    "assert (checkorigan_df.values == checksort_df .values).all()"
   ]
  },
  {
   "cell_type": "code",
   "execution_count": 80,
   "metadata": {},
   "outputs": [],
   "source": [
    "#重新制索引用来聚类分析\n",
    "train_index = list(map(lambda x:x[0].split('/')[-2],train_df.values))\n",
    "train_df.index = [train_index,train_index]\n",
    "train_df.index.names=['index0','index1']\n",
    "\n",
    "test_index = list(map(lambda x:x[0].split('/')[-2],test_df.values))\n",
    "test_df.index = [test_index,test_index]\n",
    "test_df.index.names=['index0','index1']"
   ]
  },
  {
   "cell_type": "code",
   "execution_count": 122,
   "metadata": {},
   "outputs": [],
   "source": [
    "#train_df.columns.levels  \n",
    "x = list(train_df.index.get_level_values(0)[[bool(1-x) for x in train_df.index.duplicated(keep='first')]])\n",
    "#train_df.index.values[0](train_df.index.duplicated(keep='first'))"
   ]
  },
  {
   "cell_type": "code",
   "execution_count": null,
   "metadata": {},
   "outputs": [],
   "source": []
  },
  {
   "cell_type": "code",
   "execution_count": 128,
   "metadata": {},
   "outputs": [
    {
     "data": {
      "text/html": [
       "<div>\n",
       "<style scoped>\n",
       "    .dataframe tbody tr th:only-of-type {\n",
       "        vertical-align: middle;\n",
       "    }\n",
       "\n",
       "    .dataframe tbody tr th {\n",
       "        vertical-align: top;\n",
       "    }\n",
       "\n",
       "    .dataframe thead th {\n",
       "        text-align: right;\n",
       "    }\n",
       "</style>\n",
       "<table border=\"1\" class=\"dataframe\">\n",
       "  <thead>\n",
       "    <tr style=\"text-align: right;\">\n",
       "      <th></th>\n",
       "      <th>fname</th>\n",
       "    </tr>\n",
       "    <tr>\n",
       "      <th>index1</th>\n",
       "      <th></th>\n",
       "    </tr>\n",
       "  </thead>\n",
       "  <tbody>\n",
       "    <tr>\n",
       "      <th>RAD_186297441371301</th>\n",
       "      <td>/media/data/huaweiraderdata/train/train_all/RA...</td>\n",
       "    </tr>\n",
       "    <tr>\n",
       "      <th>RAD_186297441371301</th>\n",
       "      <td>/media/data/huaweiraderdata/train/train_all/RA...</td>\n",
       "    </tr>\n",
       "  </tbody>\n",
       "</table>\n",
       "</div>"
      ],
      "text/plain": [
       "                                                                 fname\n",
       "index1                                                                \n",
       "RAD_186297441371301  /media/data/huaweiraderdata/train/train_all/RA...\n",
       "RAD_186297441371301  /media/data/huaweiraderdata/train/train_all/RA..."
      ]
     },
     "execution_count": 128,
     "metadata": {},
     "output_type": "execute_result"
    }
   ],
   "source": [
    "xx = x[10]\n",
    "#xx\n",
    "train_df.loc[xx][:9:5]"
   ]
  },
  {
   "cell_type": "code",
   "execution_count": 113,
   "metadata": {},
   "outputs": [
    {
     "data": {
      "text/plain": [
       "[False, True]"
      ]
     },
     "execution_count": 113,
     "metadata": {},
     "output_type": "execute_result"
    }
   ],
   "source": [
    "x = [True,False]\n",
    "x = [bool(1-xx) for xx in x]\n",
    "x"
   ]
  },
  {
   "cell_type": "code",
   "execution_count": 81,
   "metadata": {},
   "outputs": [
    {
     "data": {
      "text/html": [
       "<div>\n",
       "<style scoped>\n",
       "    .dataframe tbody tr th:only-of-type {\n",
       "        vertical-align: middle;\n",
       "    }\n",
       "\n",
       "    .dataframe tbody tr th {\n",
       "        vertical-align: top;\n",
       "    }\n",
       "\n",
       "    .dataframe thead tr th {\n",
       "        text-align: left;\n",
       "    }\n",
       "</style>\n",
       "<table border=\"1\" class=\"dataframe\">\n",
       "  <thead>\n",
       "    <tr>\n",
       "      <th></th>\n",
       "      <th>index1</th>\n",
       "      <th colspan=\"4\" halign=\"left\">fname</th>\n",
       "    </tr>\n",
       "    <tr>\n",
       "      <th></th>\n",
       "      <th></th>\n",
       "      <th>count</th>\n",
       "      <th>unique</th>\n",
       "      <th>top</th>\n",
       "      <th>freq</th>\n",
       "    </tr>\n",
       "  </thead>\n",
       "  <tbody>\n",
       "  </tbody>\n",
       "</table>\n",
       "</div>"
      ],
      "text/plain": [
       "Empty DataFrame\n",
       "Columns: [(index1, ), (fname, count), (fname, unique), (fname, top), (fname, freq)]\n",
       "Index: []"
      ]
     },
     "execution_count": 81,
     "metadata": {},
     "output_type": "execute_result"
    }
   ],
   "source": [
    "#三次检查每一组样本是否都是41个文件，不是则drop\n",
    "df = train_df.groupby(['index1']).describe().reset_index()\n",
    "df[df['fname']['count'].values != 41].index\n",
    "df.loc[lambda df: df['fname']['count'].values != 41, :]\n",
    "#说明本次数据集无缺失文件"
   ]
  },
  {
   "cell_type": "code",
   "execution_count": 64,
   "metadata": {},
   "outputs": [
    {
     "name": "stdout",
     "output_type": "stream",
     "text": [
      "20000\n",
      "3000\n"
     ]
    }
   ],
   "source": [
    "#下面给出最简单的返回训练索引的demo，这个函数封装在filter_dbz中，数据eda需要分析后对返回的训练数据索引进行分类或者其他操作，分析后对\n",
    "#对filter_dbz类的方法进行扩充，这里只给出最简单的demo---即不进行数据分型所有样本均参与训练\n",
    "#即用前两个小时的数据预测后两个小时，input的长度为10间隔为12分钟，所以每个样本只返回初始时刻的下标索引t0\n",
    "#整个样本seq input(t0，t0+12,t0+24,...t0+120),target(t0+150min,t0+180min,t0+220min,t0+240min)的加载在datasets.py中进行\n",
    "from pathos.multiprocessing import ProcessingPool as Pool\n",
    "#字符串--》41个样本对应的序号范围0-40\n",
    "def splitstr_int(var):\n",
    "    if var[0].split('/')[-1].split('.')[0][-2] == 0:\n",
    "        var = int(var[0].split('/')[-1].split('.')[0][-1:])\n",
    "    else:\n",
    "        var = int(var[0].split('/')[-1].split('.')[0][-2:])\n",
    "    return var\n",
    "train_number_list = list(map(splitstr_int,train_df.values))\n",
    "test_number_list = list(map(splitstr_int,test_df.values))\n",
    "#因为一个训练样本包含41个图片时长为4h，考虑到一个seq就需要4h所以无法在样本内进行滑窗切割数据集，只需要返回初始下标即可，即x[1]==0\n",
    "train_number_list = list(filter(lambda x:x[1]==0,enumerate(train_number_list)))\n",
    "test_number_list = list(filter(lambda x:x[1]==0,enumerate(test_number_list)))\n",
    "print(len(train_number_list))\n",
    "print(len(test_number_list))\n",
    "\n",
    "\n",
    "\n",
    "\n"
   ]
  },
  {
   "cell_type": "code",
   "execution_count": 71,
   "metadata": {},
   "outputs": [
    {
     "data": {
      "text/plain": [
       "(62979, 0)"
      ]
     },
     "execution_count": 71,
     "metadata": {},
     "output_type": "execute_result"
    }
   ],
   "source": [
    "test_number_list[-1]"
   ]
  },
  {
   "cell_type": "code",
   "execution_count": 2,
   "metadata": {},
   "outputs": [],
   "source": [
    "import numpy as np\n",
    "x = 4\n",
    "y =np.array([1,2,3])\n",
    "if x in y :\n",
    "    print(x)"
   ]
  },
  {
   "cell_type": "code",
   "execution_count": 9,
   "metadata": {},
   "outputs": [
    {
     "data": {
      "text/plain": [
       "(20000,)"
      ]
     },
     "execution_count": 9,
     "metadata": {},
     "output_type": "execute_result"
    }
   ],
   "source": [
    "xx= np.load('/media/workdir/hujh/hujh-new/huaweirader_baseline/data_eda/hard_train_demo.npy',allow_pickle=True)\n",
    "xx.shape"
   ]
  },
  {
   "cell_type": "code",
   "execution_count": 30,
   "metadata": {},
   "outputs": [
    {
     "data": {
      "text/plain": [
       "array([1, 3])"
      ]
     },
     "execution_count": 30,
     "metadata": {},
     "output_type": "execute_result"
    }
   ],
   "source": [
    "x = np.array([None,1,3,None])\n",
    "w = x.tolist()\n",
    "z = np.array(list(filter(lambda x:x != None, w)))\n",
    "z"
   ]
  },
  {
   "cell_type": "code",
   "execution_count": 140,
   "metadata": {},
   "outputs": [
    {
     "data": {
      "text/plain": [
       "3"
      ]
     },
     "execution_count": 140,
     "metadata": {},
     "output_type": "execute_result"
    }
   ],
   "source": [
    "import numpy as np\n",
    "x = np.random.rand(1,1,2,2)\n",
    "z = np.ones_like(x)\n",
    "x = z.sum()\n",
    "w =[1,2,3]\n",
    "w = np.array(w).max()\n",
    "w"
   ]
  },
  {
   "cell_type": "code",
   "execution_count": 160,
   "metadata": {},
   "outputs": [],
   "source": [
    "import numpy as np \n",
    "import PIL.Image as Image\n",
    "import os\n",
    "def makefeatrue(tid,pkl_path='/media/workdir/hujh/hujh-new/huaweirader_baseline/data_eda/train_all_pkl.pkl',save='/media/workdir/hujh/hujh-new/huaweirader_baseline/data_eda/train_distribute.npy'):\n",
    "    \"\"\"\n",
    "    reutrn[seq_dbz_mean,seqmax,seqmin,seqfinally-seqbegin,target_seq_mean]\n",
    "    \"\"\"\n",
    "    tid = tid\n",
    "    print(tid)\n",
    "    df = pd.read_pickle(pkl_path)\n",
    "    rootdir = ''\n",
    "    seq_mean = []\n",
    "    target_seq_mean = []\n",
    "    for time in range(tid,tid+22,2):\n",
    "        frame = np.array(Image.open(df['fname'][time]))\n",
    "        temp = frame.sum()\n",
    "        if time == tid:\n",
    "            seq_begin = temp\n",
    "        if time ==tid+20:\n",
    "            seq_finally = temp\n",
    "        seq_mean.append(temp)\n",
    "    for time in range(tid+25,tid+45,5):\n",
    "        frame = np.array(Image.open(df['fname'][time]))\n",
    "        target_seq_mean.append(frame)\n",
    "    seq_max = np.array(seq_mean).max()\n",
    "    seq_min = np.array(seq_mean).min()\n",
    "    seq_mean = np.array(seq_mean).mean()\n",
    "    anomaly = seq_finally - seq_begin\n",
    "    target_seq_mean = np.array(target_seq_mean).mean()\n",
    "    return np.array([seq_mean,seq_max,seq_min,anomaly,target_seq_mean])\n",
    "        \n",
    "        \n",
    "    \n",
    "    "
   ]
  },
  {
   "cell_type": "code",
   "execution_count": null,
   "metadata": {},
   "outputs": [],
   "source": [
    "#下面给出一种筛选研究的方法demo即我只筛选20dbz回波面积占1/3以上的样本作为classfiy1（中等回波强度过程），即数据分析分型后在这个方法里修改\n",
    "#判定条件，作为classfiy的数据集训练对应模型在inference的时候判断从而选择何种classfiy模型\n",
    "import PIL.Image as Image\n",
    "import numpy as np\n",
    "from pathos.multiprocessing import ProcessingPool as Pool\n",
    "import pandas as pd\n",
    "import os\n",
    "def filter_hard(tid):\n",
    "    df = pd.read_pickle('/media/workdir/hujh/hujh-new/huaweirader_baseline/data_eda/train_all_pkl.pkl')\n",
    "    tid = tid\n",
    "    print(tid)\n",
    "    seq_mean = []\n",
    "    for time in range(tid+1,tid+20,2):\n",
    "        frame = np.array(Image.open(df['fname'][time]))\n",
    "        #缺测值为255我是直接将其滤成0不知道有没有其他好一点的办法，或者random一个0-80dbz的数值\n",
    "        temp = frame.sum()\n",
    "        frame[frame>=85.5] = 0\n",
    "        seq_mean.append(temp/(np.sum(frame>0.0000001)))\n",
    "    #print(frame)\n",
    "    \"\"\"\n",
    "    for time in range(tid+1,tid+20,2):\n",
    "    count  = (frame > 20)\n",
    "    #print(self.threshold)\n",
    "    counts = np.logical_and(count,True).sum()\n",
    "    print(tid,'is processing')\n",
    "    if counts >=self.area:\n",
    "        x = tid\n",
    "    else:\n",
    "        x= None\n",
    "    \"\"\"\n",
    "    seq_mean = np.array(seq_mean).mean()\n",
    "    if seq_mean >=15:\n",
    "        return tid\n",
    "    \n",
    "\n",
    "#demo不进行任何操作直接返回\n",
    "def demo_pic(tid):\n",
    "    return tid[0]\n",
    "test_number_listx = np.load('/media/workdir/hujh/hujh-new/huaweirader_baseline/data_eda/train_demo.npy')\n",
    "test_number_list = test_number_listx.tolist()\n",
    "with Pool(8) as p:\n",
    "    #train_list=list(p.map(demo_pic,train_number_list))\n",
    "    test_list = list(p.map(filter_hard,test_number_list))\n",
    "#train_list = np.array(train_list)\n",
    "print(\"fuck\")\n",
    "test_list  = np.array(test_list)\n",
    "#这样返回的索引就是筛选过后的\n",
    "#index_list = list(filter(lambda x:x!=None,x))\n",
    "#train_savepath = '/media/workdir/hujh/hujh-new/huaweirader_baseline/data_eda/train_demo.npy'\n",
    "test_savepath = '/media/workdir/hujh/hujh-new/huaweirader_baseline/data_eda/hard_train_demo.npy'\n",
    "#save = np.save(train_savepath,train_list)\n",
    "save = np.save(test_savepath,test_list)"
   ]
  },
  {
   "cell_type": "code",
   "execution_count": null,
   "metadata": {},
   "outputs": [],
   "source": [
    "x =1\n",
    "x"
   ]
  },
  {
   "cell_type": "code",
   "execution_count": 249,
   "metadata": {},
   "outputs": [
    {
     "data": {
      "text/plain": [
       "(20000,)"
      ]
     },
     "execution_count": 249,
     "metadata": {},
     "output_type": "execute_result"
    }
   ],
   "source": [
    "test_number_list = np.load('/media/workdir/hujh/hujh-new/huaweirader_baseline/data_eda/train_demo.npy')\n",
    "test_number_list.shape"
   ]
  },
  {
   "cell_type": "code",
   "execution_count": 39,
   "metadata": {},
   "outputs": [],
   "source": [
    "import imageio\n",
    "im = imageio.imread('/media/data/huaweiraderdata/train/train_all/RAD_184392561770451/RAD_184392561770451_000.png')"
   ]
  },
  {
   "cell_type": "code",
   "execution_count": 44,
   "metadata": {},
   "outputs": [
    {
     "data": {
      "text/plain": [
       "50"
      ]
     },
     "execution_count": 44,
     "metadata": {},
     "output_type": "execute_result"
    }
   ],
   "source": [
    "im.shape\n",
    "im.max()"
   ]
  },
  {
   "cell_type": "code",
   "execution_count": 1,
   "metadata": {},
   "outputs": [],
   "source": [
    "import numpy as np\n",
    "x = np.load('/media/workdir/hujh/hujh-new/huaweirader_baseline/data_eda/train_demo.npy')"
   ]
  },
  {
   "cell_type": "code",
   "execution_count": 2,
   "metadata": {},
   "outputs": [],
   "source": [
    "x = list(x)"
   ]
  },
  {
   "cell_type": "code",
   "execution_count": null,
   "metadata": {},
   "outputs": [],
   "source": [
    "from pathos.multiprocessing import ProcessingPool as Pool\n",
    "import numpy as np\n",
    "import os\n",
    "with Pool(8) as p:\n",
    "    #train_list=list(p.map(demo_pic,train_number_list))\n",
    "    test_list = list(p.map(makefeatrue,x))\n",
    "test_list = np.array(test_list)\n",
    "np.save('/media/workdir/hujh/hujh-new/huaweirader_baseline/data_eda/train_distrubute.npy')\n"
   ]
  },
  {
   "cell_type": "code",
   "execution_count": null,
   "metadata": {},
   "outputs": [],
   "source": []
  },
  {
   "cell_type": "code",
   "execution_count": 4,
   "metadata": {},
   "outputs": [],
   "source": [
    "import numpy as np\n",
    "x = np.load('/media/workdir/hujh/hujh-new/huaweirader_baseline/data_eda/train_distrubute.npy')"
   ]
  },
  {
   "cell_type": "code",
   "execution_count": 7,
   "metadata": {},
   "outputs": [
    {
     "data": {
      "text/plain": [
       "0.0"
      ]
     },
     "execution_count": 7,
     "metadata": {},
     "output_type": "execute_result"
    }
   ],
   "source": [
    "x.shape\n",
    "x[:,0]"
   ]
  },
  {
   "cell_type": "code",
   "execution_count": 8,
   "metadata": {},
   "outputs": [
    {
     "data": {
      "text/plain": [
       "(array([3.314e+03, 5.926e+03, 4.486e+03, 2.965e+03, 1.725e+03, 8.950e+02,\n",
       "        4.400e+02, 1.910e+02, 5.300e+01, 5.000e+00]),\n",
       " array([      0.        ,  216289.63636364,  432579.27272727,\n",
       "         648868.90909091,  865158.54545455, 1081448.18181818,\n",
       "        1297737.81818182, 1514027.45454545, 1730317.09090909,\n",
       "        1946606.72727273, 2162896.36363636]),\n",
       " <a list of 10 Patch objects>)"
      ]
     },
     "execution_count": 8,
     "metadata": {},
     "output_type": "execute_result"
    },
    {
     "data": {
      "image/png": "[encoded data removed]",
      "text/plain": [
       "<Figure size 432x288 with 1 Axes>"
      ]
     },
     "metadata": {
      "needs_background": "light"
     },
     "output_type": "display_data"
    }
   ],
   "source": [
    "import matplotlib.pyplot as plt\n",
    "plt.hist(x[:,0])\n"
   ]
  },
  {
   "cell_type": "code",
   "execution_count": 25,
   "metadata": {},
   "outputs": [
    {
     "data": {
      "text/plain": [
       "(array([4.000e+00, 1.000e+01, 9.600e+01, 2.778e+03, 1.574e+04, 1.316e+03,\n",
       "        5.000e+01, 5.000e+00, 0.000e+00, 1.000e+00]),\n",
       " array([-1825034. , -1389716.1,  -954398.2,  -519080.3,   -83762.4,\n",
       "          351555.5,   786873.4,  1222191.3,  1657509.2,  2092827.1,\n",
       "         2528145. ]),\n",
       " <a list of 10 Patch objects>)"
      ]
     },
     "execution_count": 25,
     "metadata": {},
     "output_type": "execute_result"
    },
    {
     "data": {
      "image/png": "[encoded data removed]",
      "text/plain": [
       "<Figure size 432x288 with 1 Axes>"
      ]
     },
     "metadata": {
      "needs_background": "light"
     },
     "output_type": "display_data"
    }
   ],
   "source": [
    "import sns\n",
    "#sns.distplot(list(x[:,3]))\n",
    "plt.hist(x[:,3])"
   ]
  },
  {
   "cell_type": "code",
   "execution_count": 26,
   "metadata": {},
   "outputs": [
    {
     "data": {
      "text/plain": [
       "(array([2630., 5062., 4453., 3180., 2131., 1299.,  729.,  350.,  130.,\n",
       "          36.]),\n",
       " array([ 0.        ,  3.1185791 ,  6.2371582 ,  9.3557373 , 12.47431641,\n",
       "        15.59289551, 18.71147461, 21.83005371, 24.94863281, 28.06721191,\n",
       "        31.18579102]),\n",
       " <a list of 10 Patch objects>)"
      ]
     },
     "execution_count": 26,
     "metadata": {},
     "output_type": "execute_result"
    },
    {
     "data": {
      "image/png": "[encoded data removed]",
      "text/plain": [
       "<Figure size 432x288 with 1 Axes>"
      ]
     },
     "metadata": {
      "needs_background": "light"
     },
     "output_type": "display_data"
    }
   ],
   "source": [
    "plt.hist(x[:,4])"
   ]
  },
  {
   "cell_type": "code",
   "execution_count": 12,
   "metadata": {},
   "outputs": [],
   "source": [
    "y = np.load('/media/workdir/hujh/hujh-new/huaweirader_baseline/data_eda/test_distrubute.npy')"
   ]
  },
  {
   "cell_type": "code",
   "execution_count": 13,
   "metadata": {},
   "outputs": [
    {
     "data": {
      "text/plain": [
       "(3000, 4)"
      ]
     },
     "execution_count": 13,
     "metadata": {},
     "output_type": "execute_result"
    }
   ],
   "source": [
    "y.shape"
   ]
  },
  {
   "cell_type": "code",
   "execution_count": 22,
   "metadata": {},
   "outputs": [
    {
     "data": {
      "text/plain": [
       "1735"
      ]
     },
     "execution_count": 22,
     "metadata": {},
     "output_type": "execute_result"
    }
   ],
   "source": [
    "feature = y[:,0]\n",
    "len(feature[feature<500000])"
   ]
  },
  {
   "cell_type": "code",
   "execution_count": 14,
   "metadata": {},
   "outputs": [
    {
     "data": {
      "text/plain": [
       "(array([570., 887., 670., 391., 256., 118.,  52.,  32.,  16.,   8.]),\n",
       " array([   3544.90909091,  213490.4       ,  423435.89090909,\n",
       "         633381.38181818,  843326.87272727, 1053272.36363636,\n",
       "        1263217.85454545, 1473163.34545455, 1683108.83636364,\n",
       "        1893054.32727273, 2102999.81818182]),\n",
       " <a list of 10 Patch objects>)"
      ]
     },
     "execution_count": 14,
     "metadata": {},
     "output_type": "execute_result"
    },
    {
     "data": {
      "image/png": "[encoded data removed]",
      "text/plain": [
       "<Figure size 432x288 with 1 Axes>"
      ]
     },
     "metadata": {
      "needs_background": "light"
     },
     "output_type": "display_data"
    }
   ],
   "source": [
    "plt.hist(y[:,0])"
   ]
  },
  {
   "cell_type": "code",
   "execution_count": 27,
   "metadata": {},
   "outputs": [
    {
     "data": {
      "text/plain": [
       "(array([5.000e+00, 1.500e+01, 3.800e+01, 3.530e+02, 2.076e+03, 4.480e+02,\n",
       "        3.900e+01, 2.100e+01, 2.000e+00, 3.000e+00]),\n",
       " array([-1306801. , -1005180.7,  -703560.4,  -401940.1,  -100319.8,\n",
       "          201300.5,   502920.8,   804541.1,  1106161.4,  1407781.7,\n",
       "         1709402. ]),\n",
       " <a list of 10 Patch objects>)"
      ]
     },
     "execution_count": 27,
     "metadata": {},
     "output_type": "execute_result"
    },
    {
     "data": {
      "image/png": "[encoded data removed]",
      "text/plain": [
       "<Figure size 432x288 with 1 Axes>"
      ]
     },
     "metadata": {
      "needs_background": "light"
     },
     "output_type": "display_data"
    }
   ],
   "source": [
    "plt.hist(y[:,3])#减弱还是增强"
   ]
  },
  {
   "cell_type": "code",
   "execution_count": 41,
   "metadata": {},
   "outputs": [
    {
     "data": {
      "text/plain": [
       "<matplotlib.axes._subplots.AxesSubplot at 0x7f6f157547b8>"
      ]
     },
     "execution_count": 41,
     "metadata": {},
     "output_type": "execute_result"
    },
    {
     "data": {
      "image/png": "[encoded data removed]",
      "text/plain": [
       "<Figure size 432x288 with 1 Axes>"
      ]
     },
     "metadata": {
      "needs_background": "light"
     },
     "output_type": "display_data"
    }
   ],
   "source": [
    "import seaborn as sns\n",
    "sns.distplot(list(y[:,3]))"
   ]
  },
  {
   "cell_type": "code",
   "execution_count": 68,
   "metadata": {},
   "outputs": [],
   "source": [
    "import pandas as pd\n",
    "df_train = pd.DataFrame(x)"
   ]
  },
  {
   "cell_type": "code",
   "execution_count": 72,
   "metadata": {},
   "outputs": [],
   "source": [
    "y = np.load('/media/workdir/hujh/hujh-new/huaweirader_baseline/data_eda/test_distrubute.npy')\n",
    "df_test = pd.DataFrame(y)"
   ]
  },
  {
   "cell_type": "code",
   "execution_count": 71,
   "metadata": {},
   "outputs": [
    {
     "data": {
      "text/plain": [
       "(20000, 1)"
      ]
     },
     "execution_count": 71,
     "metadata": {},
     "output_type": "execute_result"
    }
   ],
   "source": [
    "y.shape"
   ]
  },
  {
   "cell_type": "code",
   "execution_count": 73,
   "metadata": {},
   "outputs": [],
   "source": [
    "df_test.columns = ['seq_mean','seqmax','seqmin','seq_anomaly']\n",
    "df_test.index.name='smaples'"
   ]
  },
  {
   "cell_type": "code",
   "execution_count": 44,
   "metadata": {},
   "outputs": [],
   "source": [
    "df_train.columns = ['seq_mean','seqmax','seqmin','seq_anomaly','target_mean']\n",
    "df_train.index.name='smaples'"
   ]
  },
  {
   "cell_type": "code",
   "execution_count": 37,
   "metadata": {},
   "outputs": [],
   "source": [
    "df_train.to_csv('/media/workdir/hujh/hujh-new/huaweirader_baseline/data_eda/train_frature.csv')"
   ]
  },
  {
   "cell_type": "code",
   "execution_count": 51,
   "metadata": {},
   "outputs": [],
   "source": [
    "data = df_train[['seq_mean','seqmax','seqmin','seq_anomaly','target_mean']]"
   ]
  },
  {
   "cell_type": "code",
   "execution_count": 52,
   "metadata": {},
   "outputs": [
    {
     "name": "stdout",
     "output_type": "stream",
     "text": [
      "target_mean    1.000000\n",
      "seqmax         0.889915\n",
      "seq_mean       0.870823\n",
      "seqmin         0.764262\n",
      "seq_anomaly    0.384875\n",
      "Name: target_mean, dtype: float64 \n",
      "\n"
     ]
    }
   ],
   "source": [
    "feature = ['seq_mean','seqmax','seqmin','seq_anomaly','target_mean']\n",
    "#data = df_train[featrue]\n",
    "corr = data.corr()\n",
    "print(corr['target_mean'].sort_values(ascending = False),'\\n')"
   ]
  },
  {
   "cell_type": "code",
   "execution_count": 54,
   "metadata": {},
   "outputs": [
    {
     "data": {
      "text/plain": [
       "<matplotlib.axes._subplots.AxesSubplot at 0x7f6f11392748>"
      ]
     },
     "execution_count": 54,
     "metadata": {},
     "output_type": "execute_result"
    },
    {
     "data": {
      "image/png": "[encoded data removed]",
      "text/plain": [
       "<Figure size 504x504 with 2 Axes>"
      ]
     },
     "metadata": {
      "needs_background": "light"
     },
     "output_type": "display_data"
    }
   ],
   "source": [
    "f , ax = plt.subplots(figsize = (7, 7))\n",
    "sns.heatmap(corr,square = True, vmax=0.8,vmin=-0.8)\n",
    "#这就证明其他几个特征都是无用特征只靠seq_mean就能判断target的强弱那么可以分成四类\n",
    "# 强+变强，强+变弱，弱+变强，弱+变弱\n",
    "#先尝试分成2类"
   ]
  },
  {
   "cell_type": "code",
   "execution_count": 60,
   "metadata": {},
   "outputs": [
    {
     "data": {
      "text/plain": [
       "<mpl_toolkits.mplot3d.art3d.Path3DCollection at 0x7f6f10160080>"
      ]
     },
     "execution_count": 60,
     "metadata": {},
     "output_type": "execute_result"
    },
    {
     "data": {
      "image/png": "[encoded data removed]",
      "text/plain": [
       "<Figure size 432x288 with 1 Axes>"
      ]
     },
     "metadata": {
      "needs_background": "light"
     },
     "output_type": "display_data"
    }
   ],
   "source": [
    "from mpl_toolkits.mplot3d import Axes3D  \n",
    "seqmean = x[:,0]\n",
    "target = x[:,4]\n",
    "anomly = x[:,3]\n",
    "color = anomly\n",
    "color[color>=0]=1\n",
    "color[color<0]=-1\n",
    "fig = plt.figure()\n",
    "\n",
    "ax = Axes3D(fig)\n",
    "\n",
    "ax.scatter(seqmean,anomly,c=color)\n",
    "\n",
    "#plt.scatter(seqmean,target,anomly)"
   ]
  },
  {
   "cell_type": "code",
   "execution_count": 61,
   "metadata": {},
   "outputs": [
    {
     "data": {
      "text/plain": [
       "<matplotlib.collections.PathCollection at 0x7f6f100d2b70>"
      ]
     },
     "execution_count": 61,
     "metadata": {},
     "output_type": "execute_result"
    },
    {
     "data": {
      "image/png": "[encoded data removed]",
      "text/plain": [
       "<Figure size 432x288 with 1 Axes>"
      ]
     },
     "metadata": {
      "needs_background": "light"
     },
     "output_type": "display_data"
    }
   ],
   "source": [
    "plt.scatter(seqmean,anomly,c=color)"
   ]
  },
  {
   "cell_type": "code",
   "execution_count": 67,
   "metadata": {},
   "outputs": [
    {
     "name": "stdout",
     "output_type": "stream",
     "text": [
      "Loading data...\n",
      "(20000, 1)\n",
      "(14000, 1)\n",
      "Starting training...\n",
      "[1]\tvalid_0's l1: 4.24846\tvalid_0's l2: 27.3373\n",
      "Training until validation scores don't improve for 5 rounds.\n",
      "[2]\tvalid_0's l1: 4.07065\tvalid_0's l2: 25.0929\n",
      "[3]\tvalid_0's l1: 3.91409\tvalid_0's l2: 23.191\n",
      "[4]\tvalid_0's l1: 3.75518\tvalid_0's l2: 21.353\n",
      "[5]\tvalid_0's l1: 3.60589\tvalid_0's l2: 19.6894\n",
      "[6]\tvalid_0's l1: 3.47167\tvalid_0's l2: 18.2616\n",
      "[7]\tvalid_0's l1: 3.34602\tvalid_0's l2: 16.9705\n",
      "[8]\tvalid_0's l1: 3.21998\tvalid_0's l2: 15.7286\n",
      "[9]\tvalid_0's l1: 3.10115\tvalid_0's l2: 14.6086\n",
      "[10]\tvalid_0's l1: 2.98905\tvalid_0's l2: 13.5935\n",
      "[11]\tvalid_0's l1: 2.88424\tvalid_0's l2: 12.6792\n",
      "[12]\tvalid_0's l1: 2.78622\tvalid_0's l2: 11.8549\n",
      "[13]\tvalid_0's l1: 2.70132\tvalid_0's l2: 11.1557\n",
      "[14]\tvalid_0's l1: 2.62034\tvalid_0's l2: 10.5187\n",
      "[15]\tvalid_0's l1: 2.53966\tvalid_0's l2: 9.90383\n",
      "[16]\tvalid_0's l1: 2.46946\tvalid_0's l2: 9.3794\n",
      "[17]\tvalid_0's l1: 2.3974\tvalid_0's l2: 8.86402\n",
      "[18]\tvalid_0's l1: 2.33501\tvalid_0's l2: 8.43475\n",
      "[19]\tvalid_0's l1: 2.27267\tvalid_0's l2: 8.01398\n",
      "[20]\tvalid_0's l1: 2.21522\tvalid_0's l2: 7.6357\n",
      "[21]\tvalid_0's l1: 2.16549\tvalid_0's l2: 7.315\n",
      "[22]\tvalid_0's l1: 2.11763\tvalid_0's l2: 7.01715\n",
      "[23]\tvalid_0's l1: 2.07084\tvalid_0's l2: 6.73436\n",
      "[24]\tvalid_0's l1: 2.02506\tvalid_0's l2: 6.46657\n",
      "[25]\tvalid_0's l1: 1.98428\tvalid_0's l2: 6.23448\n",
      "[26]\tvalid_0's l1: 1.9498\tvalid_0's l2: 6.04369\n",
      "[27]\tvalid_0's l1: 1.9144\tvalid_0's l2: 5.85021\n",
      "[28]\tvalid_0's l1: 1.88506\tvalid_0's l2: 5.69191\n",
      "[29]\tvalid_0's l1: 1.85705\tvalid_0's l2: 5.54662\n",
      "[30]\tvalid_0's l1: 1.82847\tvalid_0's l2: 5.40139\n",
      "[31]\tvalid_0's l1: 1.80202\tvalid_0's l2: 5.2691\n",
      "[32]\tvalid_0's l1: 1.77793\tvalid_0's l2: 5.14948\n",
      "[33]\tvalid_0's l1: 1.75854\tvalid_0's l2: 5.05422\n",
      "[34]\tvalid_0's l1: 1.73632\tvalid_0's l2: 4.94935\n",
      "[35]\tvalid_0's l1: 1.71719\tvalid_0's l2: 4.86064\n",
      "[36]\tvalid_0's l1: 1.69835\tvalid_0's l2: 4.77184\n",
      "[37]\tvalid_0's l1: 1.68354\tvalid_0's l2: 4.7068\n",
      "[38]\tvalid_0's l1: 1.67\tvalid_0's l2: 4.64786\n",
      "[39]\tvalid_0's l1: 1.65761\tvalid_0's l2: 4.59431\n",
      "[40]\tvalid_0's l1: 1.64327\tvalid_0's l2: 4.53084\n",
      "[41]\tvalid_0's l1: 1.63126\tvalid_0's l2: 4.48181\n",
      "[42]\tvalid_0's l1: 1.62057\tvalid_0's l2: 4.43811\n",
      "[43]\tvalid_0's l1: 1.60867\tvalid_0's l2: 4.38754\n",
      "[44]\tvalid_0's l1: 1.59884\tvalid_0's l2: 4.34887\n",
      "[45]\tvalid_0's l1: 1.59118\tvalid_0's l2: 4.31706\n",
      "[46]\tvalid_0's l1: 1.58394\tvalid_0's l2: 4.28835\n",
      "[47]\tvalid_0's l1: 1.57596\tvalid_0's l2: 4.25784\n",
      "[48]\tvalid_0's l1: 1.57023\tvalid_0's l2: 4.23653\n",
      "[49]\tvalid_0's l1: 1.56504\tvalid_0's l2: 4.21701\n",
      "[50]\tvalid_0's l1: 1.55758\tvalid_0's l2: 4.18743\n",
      "[51]\tvalid_0's l1: 1.55195\tvalid_0's l2: 4.16814\n",
      "[52]\tvalid_0's l1: 1.54678\tvalid_0's l2: 4.14769\n",
      "[53]\tvalid_0's l1: 1.54195\tvalid_0's l2: 4.13115\n",
      "[54]\tvalid_0's l1: 1.53657\tvalid_0's l2: 4.11037\n",
      "[55]\tvalid_0's l1: 1.53311\tvalid_0's l2: 4.09754\n",
      "[56]\tvalid_0's l1: 1.52919\tvalid_0's l2: 4.08256\n",
      "[57]\tvalid_0's l1: 1.52413\tvalid_0's l2: 4.06421\n",
      "[58]\tvalid_0's l1: 1.52033\tvalid_0's l2: 4.05197\n",
      "[59]\tvalid_0's l1: 1.51714\tvalid_0's l2: 4.03993\n",
      "[60]\tvalid_0's l1: 1.51331\tvalid_0's l2: 4.02765\n",
      "[61]\tvalid_0's l1: 1.51004\tvalid_0's l2: 4.01545\n",
      "[62]\tvalid_0's l1: 1.50741\tvalid_0's l2: 4.0057\n",
      "[63]\tvalid_0's l1: 1.50469\tvalid_0's l2: 3.99696\n",
      "[64]\tvalid_0's l1: 1.50253\tvalid_0's l2: 3.99015\n",
      "[65]\tvalid_0's l1: 1.49987\tvalid_0's l2: 3.98097\n",
      "[66]\tvalid_0's l1: 1.49771\tvalid_0's l2: 3.97387\n",
      "[67]\tvalid_0's l1: 1.49591\tvalid_0's l2: 3.9697\n",
      "[68]\tvalid_0's l1: 1.49336\tvalid_0's l2: 3.9613\n",
      "[69]\tvalid_0's l1: 1.49144\tvalid_0's l2: 3.95672\n",
      "[70]\tvalid_0's l1: 1.48967\tvalid_0's l2: 3.95174\n",
      "[71]\tvalid_0's l1: 1.48781\tvalid_0's l2: 3.94533\n",
      "[72]\tvalid_0's l1: 1.48539\tvalid_0's l2: 3.93623\n",
      "[73]\tvalid_0's l1: 1.48412\tvalid_0's l2: 3.932\n",
      "[74]\tvalid_0's l1: 1.48171\tvalid_0's l2: 3.92395\n",
      "[75]\tvalid_0's l1: 1.4797\tvalid_0's l2: 3.91756\n",
      "[76]\tvalid_0's l1: 1.47798\tvalid_0's l2: 3.91238\n",
      "[77]\tvalid_0's l1: 1.47624\tvalid_0's l2: 3.90648\n",
      "[78]\tvalid_0's l1: 1.47505\tvalid_0's l2: 3.90235\n",
      "[79]\tvalid_0's l1: 1.47358\tvalid_0's l2: 3.89825\n",
      "[80]\tvalid_0's l1: 1.4726\tvalid_0's l2: 3.89466\n",
      "[81]\tvalid_0's l1: 1.47113\tvalid_0's l2: 3.89065\n",
      "[82]\tvalid_0's l1: 1.47035\tvalid_0's l2: 3.88905\n",
      "[83]\tvalid_0's l1: 1.46983\tvalid_0's l2: 3.88791\n",
      "[84]\tvalid_0's l1: 1.4695\tvalid_0's l2: 3.88672\n",
      "[85]\tvalid_0's l1: 1.4686\tvalid_0's l2: 3.88496\n",
      "[86]\tvalid_0's l1: 1.46824\tvalid_0's l2: 3.88465\n",
      "[87]\tvalid_0's l1: 1.46704\tvalid_0's l2: 3.88144\n",
      "[88]\tvalid_0's l1: 1.46611\tvalid_0's l2: 3.87765\n",
      "[89]\tvalid_0's l1: 1.46555\tvalid_0's l2: 3.87527\n",
      "[90]\tvalid_0's l1: 1.4649\tvalid_0's l2: 3.87291\n",
      "[91]\tvalid_0's l1: 1.46356\tvalid_0's l2: 3.86876\n",
      "[92]\tvalid_0's l1: 1.46321\tvalid_0's l2: 3.86786\n",
      "[93]\tvalid_0's l1: 1.46224\tvalid_0's l2: 3.86361\n",
      "[94]\tvalid_0's l1: 1.46186\tvalid_0's l2: 3.86245\n",
      "[95]\tvalid_0's l1: 1.46085\tvalid_0's l2: 3.85855\n",
      "[96]\tvalid_0's l1: 1.45934\tvalid_0's l2: 3.85427\n",
      "[97]\tvalid_0's l1: 1.45857\tvalid_0's l2: 3.85146\n",
      "[98]\tvalid_0's l1: 1.45819\tvalid_0's l2: 3.84871\n",
      "[99]\tvalid_0's l1: 1.45692\tvalid_0's l2: 3.84539\n",
      "[100]\tvalid_0's l1: 1.45604\tvalid_0's l2: 3.84328\n",
      "Did not meet early stopping. Best iteration is:\n",
      "[100]\tvalid_0's l1: 1.45604\tvalid_0's l2: 3.84328\n",
      "Saving model...\n",
      "Starting predicting...\n",
      "The rmse of prediction is: 1.960428672847864\n"
     ]
    }
   ],
   "source": [
    "# coding: utf-8\n",
    "# pylint: disable = invalid-name, C0111\n",
    "import lightgbm as lgb\n",
    "import pandas as pd\n",
    "from sklearn.metrics import mean_squared_error\n",
    "from sklearn.model_selection import train_test_split \n",
    "\n",
    "print('Loading data...')\n",
    "# load or create your dataset\n",
    "\n",
    "x = df_train[['seq_mean','seqmax','seqmin','seq_anomaly']].values\n",
    "y = df_train[['target_mean']]\n",
    "print(y.shape)\n",
    "\n",
    "\n",
    "x_train,x_test,y_train,y_test = train_test_split(x,y,test_size=0.3,random_state=0)\n",
    "# create dataset for lightgbm\n",
    "print(y_train.shape)\n",
    "lgb_train = lgb.Dataset(x_train, y_train)\n",
    "lgb_eval = lgb.Dataset(x_test, y_test, reference=lgb_train)\n",
    "\n",
    "# specify your configurations as a dict\n",
    "params = {\n",
    "    'boosting_type': 'gbdt',\n",
    "    'objective': 'regression',\n",
    "    'metric': {'l2', 'l1'},\n",
    "    'num_leaves': 31,\n",
    "    'learning_rate': 0.05,\n",
    "    'feature_fraction': 0.9,\n",
    "    'bagging_fraction': 0.8,\n",
    "    'bagging_freq': 5,\n",
    "    'verbose': 0\n",
    "}\n",
    "\n",
    "print('Starting training...')\n",
    "# train\n",
    "gbm = lgb.train(params,\n",
    "                lgb_train,\n",
    "                num_boost_round=100,\n",
    "                valid_sets=lgb_eval,\n",
    "                early_stopping_rounds=5)\n",
    "\n",
    "print('Saving model...')\n",
    "# save model to file\n",
    "#gbm.save_model('model.txt')\n",
    "\n",
    "print('Starting predicting...')\n",
    "# predict\n",
    "y_pred = gbm.predict(x_test, num_iteration=gbm.best_iteration)\n",
    "# eval\n",
    "print('The rmse of prediction is:', mean_squared_error(y_test, y_pred) ** 0.5)\n",
    "\n"
   ]
  },
  {
   "cell_type": "code",
   "execution_count": 74,
   "metadata": {},
   "outputs": [],
   "source": [
    "x = df_test[['seq_mean','seqmax','seqmin','seq_anomaly']].values\n",
    "y_test = gbm.predict(x, num_iteration=gbm.best_iteration)"
   ]
  },
  {
   "cell_type": "code",
   "execution_count": 76,
   "metadata": {},
   "outputs": [
    {
     "data": {
      "text/plain": [
       "<matplotlib.axes._subplots.AxesSubplot at 0x7f6ee806f400>"
      ]
     },
     "execution_count": 76,
     "metadata": {},
     "output_type": "execute_result"
    },
    {
     "data": {
      "image/png": "[encoded data removed]",
      "text/plain": [
       "<Figure size 432x288 with 1 Axes>"
      ]
     },
     "metadata": {
      "needs_background": "light"
     },
     "output_type": "display_data"
    }
   ],
   "source": [
    "import seaborn as sns\n",
    "sns.distplot(list(y_test))"
   ]
  },
  {
   "cell_type": "code",
   "execution_count": 14,
   "metadata": {},
   "outputs": [],
   "source": [
    "import numpy as np\n",
    "list_x = np.load('/media/workdir/hujh/hujh-new/huaweirader_baseline/data_eda/train_distrubute.npy')"
   ]
  },
  {
   "cell_type": "code",
   "execution_count": 15,
   "metadata": {},
   "outputs": [
    {
     "data": {
      "text/plain": [
       "(20000, 8)"
      ]
     },
     "execution_count": 15,
     "metadata": {},
     "output_type": "execute_result"
    }
   ],
   "source": [
    "list_x.shape"
   ]
  },
  {
   "cell_type": "code",
   "execution_count": 16,
   "metadata": {},
   "outputs": [
    {
     "data": {
      "text/plain": [
       "<matplotlib.axes._subplots.AxesSubplot at 0x7fc6091665f8>"
      ]
     },
     "execution_count": 16,
     "metadata": {},
     "output_type": "execute_result"
    },
    {
     "data": {
      "image/png": "[encoded data removed]",
      "text/plain": [
       "<Figure size 432x288 with 1 Axes>"
      ]
     },
     "metadata": {
      "needs_background": "light"
     },
     "output_type": "display_data"
    }
   ],
   "source": [
    "import seaborn as sns\n",
    "sns.distplot(list_x[:,0])"
   ]
  },
  {
   "cell_type": "code",
   "execution_count": 21,
   "metadata": {},
   "outputs": [
    {
     "data": {
      "text/plain": [
       "9685"
      ]
     },
     "execution_count": 21,
     "metadata": {},
     "output_type": "execute_result"
    }
   ],
   "source": [
    "sum(list_x[:,0]<24)"
   ]
  },
  {
   "cell_type": "code",
   "execution_count": 231,
   "metadata": {},
   "outputs": [
    {
     "name": "stdout",
     "output_type": "stream",
     "text": [
      "          seq_mean     seqmax     seqmin  seq_anomaly  seq_begin   finally  \\\n",
      "smaples                                                                      \n",
      "0        23.478215  24.107222  20.764782    -113402.0   664421.0  551019.0   \n",
      "1        23.795250  24.877357  23.329218      75447.0   634497.0  709944.0   \n",
      "2        27.273741  28.449355  25.817926    -380062.0  1025457.0  645395.0   \n",
      "3        28.832487  29.407448  28.006617     175746.0   634854.0  810600.0   \n",
      "4        24.514298  25.262732  23.749058     266200.0   277199.0  543399.0   \n",
      "...            ...        ...        ...          ...        ...       ...   \n",
      "19995    21.853848  22.403585  20.891716      37409.0   310456.0  347865.0   \n",
      "19996    18.602619  22.822898  15.260179     -29144.0   105692.0   76548.0   \n",
      "19997    19.959620  21.161697  18.173724      29022.0    97915.0  126937.0   \n",
      "19998    25.731273  26.259009  25.458594     360292.0   556691.0  916983.0   \n",
      "19999    24.291199  28.728805  20.430514      94372.0   724483.0  818855.0   \n",
      "\n",
      "                count  target_mean  \n",
      "smaples                             \n",
      "0        23869.454545    21.373957  \n",
      "1        27625.000000    23.837219  \n",
      "2        30761.454545    22.837451  \n",
      "3        24590.545455    27.718899  \n",
      "4        15877.636364    25.965089  \n",
      "...               ...          ...  \n",
      "19995    15559.454545    21.569526  \n",
      "19996     7264.454545    23.302775  \n",
      "19997     6464.818182    20.633503  \n",
      "19998    28375.090909    26.005585  \n",
      "19999    34001.545455    19.873718  \n",
      "\n",
      "[20000 rows x 8 columns]\n",
      "target_mean    1.000000\n",
      "seq_mean       0.685639\n",
      "seqmax         0.641646\n",
      "seqmin         0.637660\n",
      "finally        0.420192\n",
      "seq_anomaly    0.322821\n",
      "seq_begin      0.263899\n",
      "count          0.156169\n",
      "Name: target_mean, dtype: float64 \n",
      "\n"
     ]
    }
   ],
   "source": [
    "df_test = pd.DataFrame(list_x)\n",
    "\n",
    "df_test.columns = ['seq_mean','seqmax','seqmin','seq_anomaly','seq_begin','finally','count','target_mean']\n",
    "df_test.index.name='smaples'\n",
    "#print(df_test)\n",
    "data = df_test[['seq_mean','seqmax','seqmin','seq_anomaly','seq_begin','finally','count','target_mean']]\n",
    "print(data)\n",
    "#data = df_train[featrue]\n",
    "corr = data.corr()\n",
    "print(corr['target_mean'].sort_values(ascending = False),'\\n')"
   ]
  },
  {
   "cell_type": "code",
   "execution_count": 232,
   "metadata": {},
   "outputs": [
    {
     "data": {
      "text/plain": [
       "<matplotlib.axes._subplots.AxesSubplot at 0x7f6eadaecd68>"
      ]
     },
     "execution_count": 232,
     "metadata": {},
     "output_type": "execute_result"
    },
    {
     "data": {
      "image/png": "[encoded data removed]",
      "text/plain": [
       "<Figure size 504x504 with 2 Axes>"
      ]
     },
     "metadata": {
      "needs_background": "light"
     },
     "output_type": "display_data"
    }
   ],
   "source": [
    "f , ax = plt.subplots(figsize = (7, 7))\n",
    "sns.heatmap(corr,square = True, vmax=1,vmin=-1)"
   ]
  },
  {
   "cell_type": "code",
   "execution_count": 201,
   "metadata": {},
   "outputs": [
    {
     "data": {
      "text/plain": [
       "<matplotlib.collections.PathCollection at 0x7f6ead677908>"
      ]
     },
     "execution_count": 201,
     "metadata": {},
     "output_type": "execute_result"
    },
    {
     "data": {
      "image/png": "[encoded data removed]",
      "text/plain": [
       "<Figure size 432x288 with 1 Axes>"
      ]
     },
     "metadata": {
      "needs_background": "light"
     },
     "output_type": "display_data"
    }
   ],
   "source": [
    "\n",
    "seqmean = list_x[:,0]\n",
    "target = list_x[:,7]\n",
    "anomly = list_x[:,3]\n",
    "begin = list_x[:,4]\n",
    "plt.scatter(seqmean,target)"
   ]
  },
  {
   "cell_type": "code",
   "execution_count": 99,
   "metadata": {},
   "outputs": [
    {
     "data": {
      "text/plain": [
       "<matplotlib.collections.PathCollection at 0x7f6eb38c3908>"
      ]
     },
     "execution_count": 99,
     "metadata": {},
     "output_type": "execute_result"
    },
    {
     "data": {
      "image/png": "[encoded data removed]",
      "text/plain": [
       "<Figure size 432x288 with 1 Axes>"
      ]
     },
     "metadata": {
      "needs_background": "light"
     },
     "output_type": "display_data"
    }
   ],
   "source": [
    "plt.scatter(anomly,target)"
   ]
  },
  {
   "cell_type": "code",
   "execution_count": 108,
   "metadata": {},
   "outputs": [
    {
     "data": {
      "text/plain": [
       "<matplotlib.collections.PathCollection at 0x7f6eb3e3c438>"
      ]
     },
     "execution_count": 108,
     "metadata": {},
     "output_type": "execute_result"
    },
    {
     "data": {
      "image/png": "[encoded data removed]",
      "text/plain": [
       "<Figure size 432x288 with 1 Axes>"
      ]
     },
     "metadata": {
      "needs_background": "light"
     },
     "output_type": "display_data"
    }
   ],
   "source": [
    "plt.scatter(anomly,begin)"
   ]
  },
  {
   "cell_type": "code",
   "execution_count": null,
   "metadata": {},
   "outputs": [],
   "source": [
    "new_feature = np.concatenate((list_x[:,4][:,np.newaxis],list_x[:,3][:,np.newaxis]),axis =1)\n",
    "new_feature.shape"
   ]
  },
  {
   "cell_type": "code",
   "execution_count": 222,
   "metadata": {},
   "outputs": [
    {
     "data": {
      "text/plain": [
       "'/media/workdir/hujh/hujh-new/huaweirader_baseline/data_eda/line3d_rectangular_projection.html'"
      ]
     },
     "execution_count": 222,
     "metadata": {},
     "output_type": "execute_result"
    }
   ],
   "source": [
    "import math\n",
    "\n",
    "import pyecharts.options as opts\n",
    "from pyecharts.charts import Line3D\n",
    "\n",
    "week_en = \"Saturday Friday Thursday Wednesday Tuesday Monday Sunday\".split()\n",
    "clock = (\n",
    "    \"12a 1a 2a 3a 4a 5a 6a 7a 8a 9a 10a 11a 12p \"\n",
    "    \"1p 2p 3p 4p 5p 6p 7p 8p 9p 10p 11p\".split()\n",
    ")\n",
    "\n",
    "data = []\n",
    "for t in range(0, 25000):\n",
    "    _t = t / 1000\n",
    "    x = (1 + 0.25 * math.cos(75 * _t)) * math.cos(_t)\n",
    "    y = (1 + 0.25 * math.cos(75 * _t)) * math.sin(_t)\n",
    "    z = _t + 2.0 * math.sin(75 * _t)\n",
    "    data.append([x, y, z])\n",
    "\n",
    "(\n",
    "    Line3D()\n",
    "    .add(\n",
    "        \"\",\n",
    "        data,\n",
    "        xaxis3d_opts=opts.Axis3DOpts(data=clock, type_=\"value\"),\n",
    "        yaxis3d_opts=opts.Axis3DOpts(data=week_en, type_=\"value\"),\n",
    "        grid3d_opts=opts.Grid3DOpts(width=100, height=100, depth=100),\n",
    "    )\n",
    "    .set_global_opts(\n",
    "        visualmap_opts=opts.VisualMapOpts(\n",
    "            dimension=2,\n",
    "            max_=30,\n",
    "            min_=0,\n",
    "            range_color=[\n",
    "                \"#313695\",\n",
    "                \"#4575b4\",\n",
    "                \"#74add1\",\n",
    "                \"#abd9e9\",\n",
    "                \"#e0f3f8\",\n",
    "                \"#ffffbf\",\n",
    "                \"#fee090\",\n",
    "                \"#fdae61\",\n",
    "                \"#f46d43\",\n",
    "                \"#d73027\",\n",
    "                \"#a50026\",\n",
    "            ],\n",
    "        )\n",
    "    )\n",
    "    .render(\"line3d_rectangular_projection.html\")\n",
    ")\n"
   ]
  },
  {
   "cell_type": "code",
   "execution_count": null,
   "metadata": {},
   "outputs": [],
   "source": [
    "x = list_x[:,4].unsqueeze(1)"
   ]
  },
  {
   "cell_type": "code",
   "execution_count": 107,
   "metadata": {},
   "outputs": [
    {
     "data": {
      "text/plain": [
       "(20000, 2)"
      ]
     },
     "execution_count": 107,
     "metadata": {},
     "output_type": "execute_result"
    }
   ],
   "source": [
    "new_feature = np.concatenate((list_x[:,4][:,np.newaxis],list_x[:,3][:,np.newaxis]),axis =1)\n",
    "new_feature.shape"
   ]
  },
  {
   "cell_type": "code",
   "execution_count": 116,
   "metadata": {},
   "outputs": [
    {
     "data": {
      "image/png": "[encoded data removed]",
      "text/plain": [
       "<Figure size 432x288 with 1 Axes>"
      ]
     },
     "metadata": {
      "needs_background": "light"
     },
     "output_type": "display_data"
    }
   ],
   "source": [
    "import numpy as np\n",
    "import matplotlib.pyplot as plt\n",
    "#matplotlib inline\n",
    "from sklearn import metrics\n",
    "#from sklearn.datasets.samples_generator import make_blobs\n",
    "from sklearn.cluster import KMeans\n",
    "y_pred = KMeans(n_clusters=4, random_state=9).fit_predict(new_feature)\n",
    "plt.scatter(new_feature[:,1], new_feature[:,0], c=y_pred)\n",
    "plt.show()\n",
    "#print(metrics.calinski_harabaz_score(X, y_pred))\n",
    "#用Calinski-Harabasz Index评估四分类的聚类分数\n",
    "\n",
    "\n",
    "\n",
    "\n",
    "\n"
   ]
  },
  {
   "cell_type": "code",
   "execution_count": 113,
   "metadata": {},
   "outputs": [
    {
     "name": "stdout",
     "output_type": "stream",
     "text": [
      "Sklearn verion is 0.22\n"
     ]
    }
   ],
   "source": [
    "import sklearn\n",
    "print(\"Sklearn verion is {}\".format(sklearn.__version__))"
   ]
  },
  {
   "cell_type": "code",
   "execution_count": 225,
   "metadata": {},
   "outputs": [
    {
     "ename": "IndexError",
     "evalue": "index 6 is out of bounds for axis 1 with size 5",
     "output_type": "error",
     "traceback": [
      "\u001b[0;31m---------------------------------------------------------------------------\u001b[0m",
      "\u001b[0;31mIndexError\u001b[0m                                Traceback (most recent call last)",
      "\u001b[0;32m<ipython-input-225-2de6089c36c6>\u001b[0m in \u001b[0;36m<module>\u001b[0;34m\u001b[0m\n\u001b[1;32m      5\u001b[0m \u001b[0;32mfrom\u001b[0m \u001b[0mpyecharts\u001b[0m\u001b[0;34m.\u001b[0m\u001b[0mfaker\u001b[0m \u001b[0;32mimport\u001b[0m \u001b[0mFaker\u001b[0m\u001b[0;34m\u001b[0m\u001b[0;34m\u001b[0m\u001b[0m\n\u001b[1;32m      6\u001b[0m \u001b[0;34m\u001b[0m\u001b[0m\n\u001b[0;32m----> 7\u001b[0;31m \u001b[0mdata\u001b[0m \u001b[0;34m=\u001b[0m \u001b[0;34m[\u001b[0m\u001b[0mx_test1\u001b[0m\u001b[0;34m[\u001b[0m\u001b[0;34m:\u001b[0m\u001b[0;34m,\u001b[0m\u001b[0;36m0\u001b[0m\u001b[0;34m]\u001b[0m\u001b[0;34m,\u001b[0m\u001b[0mx_test1\u001b[0m\u001b[0;34m[\u001b[0m\u001b[0;34m:\u001b[0m\u001b[0;34m,\u001b[0m\u001b[0;36m6\u001b[0m\u001b[0;34m]\u001b[0m\u001b[0;34m,\u001b[0m\u001b[0my_test1\u001b[0m\u001b[0;34m[\u001b[0m\u001b[0;34m:\u001b[0m\u001b[0;34m,\u001b[0m\u001b[0;36m0\u001b[0m\u001b[0;34m]\u001b[0m\u001b[0;34m]\u001b[0m\u001b[0;34m\u001b[0m\u001b[0;34m\u001b[0m\u001b[0m\n\u001b[0m\u001b[1;32m      8\u001b[0m \"\"\"\n\u001b[1;32m      9\u001b[0m \u001b[0;32mfor\u001b[0m \u001b[0mt\u001b[0m \u001b[0;32min\u001b[0m \u001b[0mrange\u001b[0m\u001b[0;34m(\u001b[0m\u001b[0;36m0\u001b[0m\u001b[0;34m,\u001b[0m \u001b[0;36m25000\u001b[0m\u001b[0;34m)\u001b[0m\u001b[0;34m:\u001b[0m\u001b[0;34m\u001b[0m\u001b[0;34m\u001b[0m\u001b[0m\n",
      "\u001b[0;31mIndexError\u001b[0m: index 6 is out of bounds for axis 1 with size 5"
     ]
    }
   ],
   "source": [
    "import math\n",
    "\n",
    "from pyecharts import options as opts\n",
    "from pyecharts.charts import Line3D\n",
    "from pyecharts.faker import Faker\n",
    "\n",
    "data = [x_test1[:,0],x_test1[:,6],y_test1[:,0]]\n",
    "\"\"\"\n",
    "for t in range(0, 25000):\n",
    "    _t = t / 1000\n",
    "    x = (1 + 0.25 * math.cos(75 * _t)) * math.cos(_t)\n",
    "    y = (1 + 0.25 * math.cos(75 * _t)) * math.sin(_t)\n",
    "    z = _t + 2.0 * math.sin(75 * _t)\n",
    "    data.append([x, y, z])\n",
    "\"\"\"\n",
    "c = (\n",
    "    Line3D()\n",
    "    .add(\n",
    "        \"\",\n",
    "        data,\n",
    "        xaxis3d_opts=opts.Axis3DOpts(Faker.clock, type_=\"value\"),\n",
    "        yaxis3d_opts=opts.Axis3DOpts(Faker.week_en, type_=\"value\"),\n",
    "        grid3d_opts=opts.Grid3DOpts(\n",
    "            width=100, depth=100, rotate_speed=150, is_rotate=True\n",
    "        ),\n",
    "    )\n",
    "    .set_global_opts(\n",
    "        visualmap_opts=opts.VisualMapOpts(\n",
    "            max_=30, min_=0, range_color=Faker.visual_color\n",
    "        ),\n",
    "        title_opts=opts.TitleOpts(title=\"Line3D-旋转的弹簧\"),\n",
    "    )\n",
    "    .render(\"line3d_autorotate.html\")\n",
    ")\n"
   ]
  },
  {
   "cell_type": "code",
   "execution_count": 119,
   "metadata": {},
   "outputs": [],
   "source": [
    "x = np.array([[0,1],[0,0]])\n",
    "y = np.sum(x==0)"
   ]
  },
  {
   "cell_type": "code",
   "execution_count": 120,
   "metadata": {},
   "outputs": [
    {
     "data": {
      "text/plain": [
       "3"
      ]
     },
     "execution_count": 120,
     "metadata": {},
     "output_type": "execute_result"
    }
   ],
   "source": [
    "y"
   ]
  },
  {
   "cell_type": "code",
   "execution_count": 121,
   "metadata": {},
   "outputs": [],
   "source": [
    "x = np.load('/media/workdir/hujh/hujh-new/huaweirader_baseline/data_eda/train_demo.npy')"
   ]
  },
  {
   "cell_type": "code",
   "execution_count": 122,
   "metadata": {},
   "outputs": [
    {
     "data": {
      "text/plain": [
       "array([     0,     41,     82, ..., 819877, 819918, 819959])"
      ]
     },
     "execution_count": 122,
     "metadata": {},
     "output_type": "execute_result"
    }
   ],
   "source": [
    "x"
   ]
  },
  {
   "cell_type": "code",
   "execution_count": 233,
   "metadata": {},
   "outputs": [
    {
     "name": "stdout",
     "output_type": "stream",
     "text": [
      "seq_mean       False\n",
      "seqmax         False\n",
      "seqmin         False\n",
      "seq_anomaly    False\n",
      "seq_begin      False\n",
      "finally        False\n",
      "count          False\n",
      "target_mean    False\n",
      "dtype: bool\n"
     ]
    }
   ],
   "source": [
    "df_test.dropna(inplace=True)\n",
    "print(np.isnan(df_test).any())\n"
   ]
  },
  {
   "cell_type": "code",
   "execution_count": 234,
   "metadata": {},
   "outputs": [
    {
     "name": "stdout",
     "output_type": "stream",
     "text": [
      "Loading data...\n",
      "(19279, 1)\n",
      "(13495, 1)\n",
      "Starting training...\n",
      "[1]\tvalid_0's l1: 3.10243\tvalid_0's l2: 16.5887\n",
      "Training until validation scores don't improve for 5 rounds.\n",
      "[2]\tvalid_0's l1: 3.02889\tvalid_0's l2: 15.8105\n",
      "[3]\tvalid_0's l1: 2.96348\tvalid_0's l2: 15.133\n",
      "[4]\tvalid_0's l1: 2.90306\tvalid_0's l2: 14.5182\n",
      "[5]\tvalid_0's l1: 2.84684\tvalid_0's l2: 13.9579\n",
      "[6]\tvalid_0's l1: 2.79086\tvalid_0's l2: 13.4209\n",
      "[7]\tvalid_0's l1: 2.73945\tvalid_0's l2: 12.9336\n",
      "[8]\tvalid_0's l1: 2.69455\tvalid_0's l2: 12.513\n",
      "[9]\tvalid_0's l1: 2.65872\tvalid_0's l2: 12.1828\n",
      "[10]\tvalid_0's l1: 2.61689\tvalid_0's l2: 11.8036\n",
      "[11]\tvalid_0's l1: 2.57959\tvalid_0's l2: 11.4783\n",
      "[12]\tvalid_0's l1: 2.54331\tvalid_0's l2: 11.1684\n",
      "[13]\tvalid_0's l1: 2.51168\tvalid_0's l2: 10.9025\n",
      "[14]\tvalid_0's l1: 2.48249\tvalid_0's l2: 10.6597\n",
      "[15]\tvalid_0's l1: 2.45363\tvalid_0's l2: 10.4285\n",
      "[16]\tvalid_0's l1: 2.42858\tvalid_0's l2: 10.2232\n",
      "[17]\tvalid_0's l1: 2.4043\tvalid_0's l2: 10.0271\n",
      "[18]\tvalid_0's l1: 2.38203\tvalid_0's l2: 9.85133\n",
      "[19]\tvalid_0's l1: 2.36111\tvalid_0's l2: 9.68859\n",
      "[20]\tvalid_0's l1: 2.34394\tvalid_0's l2: 9.55741\n",
      "[21]\tvalid_0's l1: 2.32653\tvalid_0's l2: 9.42381\n",
      "[22]\tvalid_0's l1: 2.31064\tvalid_0's l2: 9.30833\n",
      "[23]\tvalid_0's l1: 2.29503\tvalid_0's l2: 9.19702\n",
      "[24]\tvalid_0's l1: 2.28134\tvalid_0's l2: 9.1006\n",
      "[25]\tvalid_0's l1: 2.2687\tvalid_0's l2: 9.01386\n",
      "[26]\tvalid_0's l1: 2.25697\tvalid_0's l2: 8.9321\n",
      "[27]\tvalid_0's l1: 2.24588\tvalid_0's l2: 8.8565\n",
      "[28]\tvalid_0's l1: 2.23604\tvalid_0's l2: 8.78939\n",
      "[29]\tvalid_0's l1: 2.22657\tvalid_0's l2: 8.73016\n",
      "[30]\tvalid_0's l1: 2.21765\tvalid_0's l2: 8.67637\n",
      "[31]\tvalid_0's l1: 2.20926\tvalid_0's l2: 8.62259\n",
      "[32]\tvalid_0's l1: 2.20167\tvalid_0's l2: 8.57648\n",
      "[33]\tvalid_0's l1: 2.19415\tvalid_0's l2: 8.52812\n",
      "[34]\tvalid_0's l1: 2.18739\tvalid_0's l2: 8.48671\n",
      "[35]\tvalid_0's l1: 2.18078\tvalid_0's l2: 8.44605\n",
      "[36]\tvalid_0's l1: 2.17458\tvalid_0's l2: 8.41158\n",
      "[37]\tvalid_0's l1: 2.16947\tvalid_0's l2: 8.38322\n",
      "[38]\tvalid_0's l1: 2.16463\tvalid_0's l2: 8.35607\n",
      "[39]\tvalid_0's l1: 2.15953\tvalid_0's l2: 8.32839\n",
      "[40]\tvalid_0's l1: 2.15513\tvalid_0's l2: 8.3037\n",
      "[41]\tvalid_0's l1: 2.15146\tvalid_0's l2: 8.28481\n",
      "[42]\tvalid_0's l1: 2.14811\tvalid_0's l2: 8.26746\n",
      "[43]\tvalid_0's l1: 2.1449\tvalid_0's l2: 8.25044\n",
      "[44]\tvalid_0's l1: 2.142\tvalid_0's l2: 8.23408\n",
      "[45]\tvalid_0's l1: 2.13921\tvalid_0's l2: 8.21779\n",
      "[46]\tvalid_0's l1: 2.13661\tvalid_0's l2: 8.20494\n",
      "[47]\tvalid_0's l1: 2.13415\tvalid_0's l2: 8.19197\n",
      "[48]\tvalid_0's l1: 2.13225\tvalid_0's l2: 8.18418\n",
      "[49]\tvalid_0's l1: 2.12971\tvalid_0's l2: 8.17402\n",
      "[50]\tvalid_0's l1: 2.12772\tvalid_0's l2: 8.1648\n",
      "[51]\tvalid_0's l1: 2.12611\tvalid_0's l2: 8.15763\n",
      "[52]\tvalid_0's l1: 2.12462\tvalid_0's l2: 8.15042\n",
      "[53]\tvalid_0's l1: 2.12306\tvalid_0's l2: 8.14236\n",
      "[54]\tvalid_0's l1: 2.12158\tvalid_0's l2: 8.13611\n",
      "[55]\tvalid_0's l1: 2.11952\tvalid_0's l2: 8.1263\n",
      "[56]\tvalid_0's l1: 2.11806\tvalid_0's l2: 8.11924\n",
      "[57]\tvalid_0's l1: 2.11672\tvalid_0's l2: 8.11256\n",
      "[58]\tvalid_0's l1: 2.11513\tvalid_0's l2: 8.10318\n",
      "[59]\tvalid_0's l1: 2.11454\tvalid_0's l2: 8.1002\n",
      "[60]\tvalid_0's l1: 2.11355\tvalid_0's l2: 8.09511\n",
      "[61]\tvalid_0's l1: 2.11247\tvalid_0's l2: 8.09119\n",
      "[62]\tvalid_0's l1: 2.1117\tvalid_0's l2: 8.08989\n",
      "[63]\tvalid_0's l1: 2.11034\tvalid_0's l2: 8.08442\n",
      "[64]\tvalid_0's l1: 2.10902\tvalid_0's l2: 8.07917\n",
      "[65]\tvalid_0's l1: 2.10829\tvalid_0's l2: 8.07854\n",
      "[66]\tvalid_0's l1: 2.107\tvalid_0's l2: 8.07561\n",
      "[67]\tvalid_0's l1: 2.10599\tvalid_0's l2: 8.07229\n",
      "[68]\tvalid_0's l1: 2.1051\tvalid_0's l2: 8.06829\n",
      "[69]\tvalid_0's l1: 2.10423\tvalid_0's l2: 8.06621\n",
      "[70]\tvalid_0's l1: 2.10376\tvalid_0's l2: 8.06491\n",
      "[71]\tvalid_0's l1: 2.10311\tvalid_0's l2: 8.06229\n",
      "[72]\tvalid_0's l1: 2.10248\tvalid_0's l2: 8.05898\n",
      "[73]\tvalid_0's l1: 2.10176\tvalid_0's l2: 8.05463\n",
      "[74]\tvalid_0's l1: 2.10106\tvalid_0's l2: 8.053\n",
      "[75]\tvalid_0's l1: 2.10054\tvalid_0's l2: 8.04999\n",
      "[76]\tvalid_0's l1: 2.10054\tvalid_0's l2: 8.05393\n",
      "[77]\tvalid_0's l1: 2.10014\tvalid_0's l2: 8.0522\n",
      "[78]\tvalid_0's l1: 2.09949\tvalid_0's l2: 8.04951\n",
      "[79]\tvalid_0's l1: 2.09874\tvalid_0's l2: 8.04653\n",
      "[80]\tvalid_0's l1: 2.09843\tvalid_0's l2: 8.04683\n",
      "[81]\tvalid_0's l1: 2.09856\tvalid_0's l2: 8.04932\n",
      "[82]\tvalid_0's l1: 2.09801\tvalid_0's l2: 8.04661\n",
      "[83]\tvalid_0's l1: 2.09798\tvalid_0's l2: 8.04778\n",
      "[84]\tvalid_0's l1: 2.09757\tvalid_0's l2: 8.04739\n",
      "Early stopping, best iteration is:\n",
      "[79]\tvalid_0's l1: 2.09874\tvalid_0's l2: 8.04653\n",
      "Saving model...\n",
      "Starting predicting...\n",
      "The rmse of prediction is: 2.8366410955195756\n"
     ]
    }
   ],
   "source": [
    "import lightgbm as lgb\n",
    "import pandas as pd\n",
    "from sklearn.metrics import mean_squared_error\n",
    "from sklearn.model_selection import train_test_split \n",
    "\n",
    "print('Loading data...')\n",
    "# load or create your dataset\n",
    "\n",
    "x = df_test[['seq_mean','seq_anomaly','seq_begin','finally','count']]\n",
    "y = df_test[['target_mean']]\n",
    "print(y.shape)\n",
    "\n",
    "\n",
    "x_train,x_test,y_train,y_test = train_test_split(x,y,test_size=0.3,random_state=0)\n",
    "# create dataset for lightgbm\n",
    "print(y_train.shape)\n",
    "lgb_train = lgb.Dataset(x_train, y_train)\n",
    "lgb_eval = lgb.Dataset(x_test, y_test, reference=lgb_train)\n",
    "\n",
    "# specify your configurations as a dict\n",
    "params = {\n",
    "    'boosting_type': 'gbdt',\n",
    "    'objective': 'regression',\n",
    "    'metric': {'l2', 'l1'},\n",
    "    'num_leaves': 50,\n",
    "    'learning_rate': 0.05,\n",
    "    'feature_fraction': 0.9,\n",
    "    'bagging_fraction': 0.8,\n",
    "    'bagging_freq': 5,\n",
    "    'verbose': 0\n",
    "}\n",
    "\n",
    "print('Starting training...')\n",
    "# train\n",
    "gbm = lgb.train(params,\n",
    "                lgb_train,\n",
    "                num_boost_round=300,\n",
    "                valid_sets=lgb_eval,\n",
    "                early_stopping_rounds=5)\n",
    "\n",
    "print('Saving model...')\n",
    "# save model to file\n",
    "#gbm.save_model('model.txt')\n",
    "\n",
    "print('Starting predicting...')\n",
    "# predict\n",
    "y_pred = gbm.predict(x_test, num_iteration=gbm.best_iteration)\n",
    "# eval\n",
    "print('The rmse of prediction is:', mean_squared_error(y_test, y_pred) ** 0.5)"
   ]
  },
  {
   "cell_type": "code",
   "execution_count": 235,
   "metadata": {},
   "outputs": [
    {
     "data": {
      "text/html": [
       "<div>\n",
       "<style scoped>\n",
       "    .dataframe tbody tr th:only-of-type {\n",
       "        vertical-align: middle;\n",
       "    }\n",
       "\n",
       "    .dataframe tbody tr th {\n",
       "        vertical-align: top;\n",
       "    }\n",
       "\n",
       "    .dataframe thead th {\n",
       "        text-align: right;\n",
       "    }\n",
       "</style>\n",
       "<table border=\"1\" class=\"dataframe\">\n",
       "  <thead>\n",
       "    <tr style=\"text-align: right;\">\n",
       "      <th></th>\n",
       "      <th>target_mean</th>\n",
       "    </tr>\n",
       "    <tr>\n",
       "      <th>smaples</th>\n",
       "      <th></th>\n",
       "    </tr>\n",
       "  </thead>\n",
       "  <tbody>\n",
       "    <tr>\n",
       "      <th>9515</th>\n",
       "      <td>23.469139</td>\n",
       "    </tr>\n",
       "    <tr>\n",
       "      <th>3164</th>\n",
       "      <td>24.690671</td>\n",
       "    </tr>\n",
       "    <tr>\n",
       "      <th>2064</th>\n",
       "      <td>26.542023</td>\n",
       "    </tr>\n",
       "    <tr>\n",
       "      <th>1038</th>\n",
       "      <td>12.708922</td>\n",
       "    </tr>\n",
       "    <tr>\n",
       "      <th>12177</th>\n",
       "      <td>24.109357</td>\n",
       "    </tr>\n",
       "    <tr>\n",
       "      <th>...</th>\n",
       "      <td>...</td>\n",
       "    </tr>\n",
       "    <tr>\n",
       "      <th>10214</th>\n",
       "      <td>24.339821</td>\n",
       "    </tr>\n",
       "    <tr>\n",
       "      <th>17028</th>\n",
       "      <td>8.386003</td>\n",
       "    </tr>\n",
       "    <tr>\n",
       "      <th>14486</th>\n",
       "      <td>20.619666</td>\n",
       "    </tr>\n",
       "    <tr>\n",
       "      <th>1961</th>\n",
       "      <td>20.226643</td>\n",
       "    </tr>\n",
       "    <tr>\n",
       "      <th>3748</th>\n",
       "      <td>19.002263</td>\n",
       "    </tr>\n",
       "  </tbody>\n",
       "</table>\n",
       "<p>5784 rows × 1 columns</p>\n",
       "</div>"
      ],
      "text/plain": [
       "         target_mean\n",
       "smaples             \n",
       "9515       23.469139\n",
       "3164       24.690671\n",
       "2064       26.542023\n",
       "1038       12.708922\n",
       "12177      24.109357\n",
       "...              ...\n",
       "10214      24.339821\n",
       "17028       8.386003\n",
       "14486      20.619666\n",
       "1961       20.226643\n",
       "3748       19.002263\n",
       "\n",
       "[5784 rows x 1 columns]"
      ]
     },
     "execution_count": 235,
     "metadata": {},
     "output_type": "execute_result"
    }
   ],
   "source": [
    "y_test"
   ]
  },
  {
   "cell_type": "code",
   "execution_count": 13,
   "metadata": {},
   "outputs": [
    {
     "ename": "NameError",
     "evalue": "name 'x_train' is not defined",
     "output_type": "error",
     "traceback": [
      "\u001b[0;31m---------------------------------------------------------------------------\u001b[0m",
      "\u001b[0;31mNameError\u001b[0m                                 Traceback (most recent call last)",
      "\u001b[0;32m<ipython-input-13-2132a220a582>\u001b[0m in \u001b[0;36m<module>\u001b[0;34m\u001b[0m\n\u001b[0;32m----> 1\u001b[0;31m \u001b[0mx_train\u001b[0m\u001b[0;34m.\u001b[0m\u001b[0mshape\u001b[0m\u001b[0;34m\u001b[0m\u001b[0;34m\u001b[0m\u001b[0m\n\u001b[0m",
      "\u001b[0;31mNameError\u001b[0m: name 'x_train' is not defined"
     ]
    }
   ],
   "source": [
    "x_train.shape"
   ]
  },
  {
   "cell_type": "code",
   "execution_count": 244,
   "metadata": {},
   "outputs": [
    {
     "name": "stdout",
     "output_type": "stream",
     "text": [
      "(5784, 5)\n",
      "(5784, 1)\n"
     ]
    },
    {
     "data": {
      "image/png": "[encoded data removed]",
      "text/plain": [
       "<Figure size 432x288 with 1 Axes>"
      ]
     },
     "metadata": {
      "needs_background": "light"
     },
     "output_type": "display_data"
    }
   ],
   "source": [
    "x_test1 = x_test.values\n",
    "y_test1 = y_test.values\n",
    "y_pred1 = y_pred\n",
    "#print(y_pred1.type)\n",
    "print(x_test1.shape)\n",
    "print(y_test1.shape)\n",
    "#ypred = list(y_pred1.values)\n",
    "#plt.scatter(x_test1[:,0], ypred, c=1)\n",
    "c= y_test1.copy()\n",
    "c[:,0]=2\n",
    "c1 = c.copy()\n",
    "c1[:,0]=-10\n",
    "\n",
    "plt.scatter(x_test1[:,0], y_test1[:,0], c='r')\n",
    "plt.scatter(x_test1[:,0], y_pred[:], c='b')\n",
    "#plt.scatter(x_test1[10:100,0], y_pred[:], c=c1)\n",
    "plt.show()\n"
   ]
  },
  {
   "cell_type": "code",
   "execution_count": 237,
   "metadata": {},
   "outputs": [
    {
     "name": "stderr",
     "output_type": "stream",
     "text": [
      "/usr/hujh/anaconda3/lib/python3.7/site-packages/sklearn/utils/validation.py:744: DataConversionWarning: A column-vector y was passed when a 1d array was expected. Please change the shape of y to (n_samples, ), for example using ravel().\n",
      "  Returns\n"
     ]
    },
    {
     "data": {
      "text/plain": [
       "SVR(C=1.0, cache_size=200, coef0=0.0, degree=3, epsilon=0.1, gamma='scale',\n",
       "    kernel='rbf', max_iter=-1, shrinking=True, tol=0.001, verbose=False)"
      ]
     },
     "execution_count": 237,
     "metadata": {},
     "output_type": "execute_result"
    }
   ],
   "source": [
    "from sklearn import svm\n",
    "clf = svm.SVR()\n",
    "clf.fit(x_train, y_train)"
   ]
  },
  {
   "cell_type": "code",
   "execution_count": 238,
   "metadata": {},
   "outputs": [],
   "source": [
    "pred_y = clf.predict(x_test)\n"
   ]
  },
  {
   "cell_type": "code",
   "execution_count": 239,
   "metadata": {},
   "outputs": [
    {
     "data": {
      "image/png": "[encoded data removed]",
      "text/plain": [
       "<Figure size 432x288 with 1 Axes>"
      ]
     },
     "metadata": {
      "needs_background": "light"
     },
     "output_type": "display_data"
    }
   ],
   "source": [
    "plt.scatter(x_test1[:,0], y_test1[:,0], c='r')\n",
    "plt.scatter(x_test1[:,0], pred_y[:], c='b')\n",
    "#plt.scatter(x_test1[10:100,0], y_pred[:], c=c1)\n",
    "plt.show()"
   ]
  },
  {
   "cell_type": "code",
   "execution_count": 228,
   "metadata": {},
   "outputs": [
    {
     "data": {
      "text/plain": [
       "(5784, 5)"
      ]
     },
     "execution_count": 228,
     "metadata": {},
     "output_type": "execute_result"
    }
   ],
   "source": [
    "x_test1.shape"
   ]
  },
  {
   "cell_type": "code",
   "execution_count": 240,
   "metadata": {},
   "outputs": [],
   "source": [
    "import math\n",
    "\n",
    "from pyecharts import options as opts\n",
    "from pyecharts.charts import Line3D\n",
    "from pyecharts.faker import Faker\n",
    "\n",
    "data = [x_test1[:,0],x_test1[:,4],y_test1[:,0]]\n",
    "\"\"\"\n",
    "for t in range(0, 25000):\n",
    "    _t = t / 1000\n",
    "    x = (1 + 0.25 * math.cos(75 * _t)) * math.cos(_t)\n",
    "    y = (1 + 0.25 * math.cos(75 * _t)) * math.sin(_t)\n",
    "    z = _t + 2.0 * math.sin(75 * _t)\n",
    "    data.append([x, y, z])\n",
    "\"\"\"\n",
    "c = (\n",
    "    Line3D()\n",
    "    .add(\n",
    "        \"\",\n",
    "        data,\n",
    "        xaxis3d_opts=opts.Axis3DOpts(Faker.clock, type_=\"value\"),\n",
    "        yaxis3d_opts=opts.Axis3DOpts(Faker.week_en, type_=\"value\"),\n",
    "        grid3d_opts=opts.Grid3DOpts(\n",
    "            width=100, depth=100, rotate_speed=150, is_rotate=True\n",
    "        ),\n",
    "    )\n",
    "    .set_global_opts(\n",
    "        visualmap_opts=opts.VisualMapOpts(\n",
    "            max_=30, min_=0, range_color=Faker.visual_color\n",
    "        ),\n",
    "        title_opts=opts.TitleOpts(title=\"Line3D-旋转的弹簧\"),\n",
    "    )\n",
    "    .render(\"line3d_autorotate.html\")\n",
    ")\n"
   ]
  },
  {
   "cell_type": "code",
   "execution_count": null,
   "metadata": {},
   "outputs": [],
   "source": [
    "from mpl_toolkits.mplot3d import Axes3D  \n",
    "seqmean = x[:,0]\n",
    "target = x[:,4]\n",
    "anomly = x[:,3]\n",
    "color = anomly\n",
    "color[color>=0]=1\n",
    "color[color<0]=-1\n",
    "fig = plt.figure()\n",
    "\n",
    "ax = Axes3D(fig)\n",
    "\n",
    "ax.scatter(seqmean,anomly,c=color)"
   ]
  },
  {
   "cell_type": "code",
   "execution_count": 35,
   "metadata": {},
   "outputs": [],
   "source": [
    "import numpy as np \n",
    "hard = np.load('/media/workdir/hujh/hujh-new/huaweirader_baseline/data_eda/hard_train_demo.npy',allow_pickle=True)\n",
    "lst= hard.tolist()\n",
    "hardnew = np.array(list(filter(lambda x:x != None, lst)))\n"
   ]
  },
  {
   "cell_type": "code",
   "execution_count": 42,
   "metadata": {},
   "outputs": [],
   "source": [
    "puretrain = np.load('/media/workdir/hujh/hujh-new/huaweirader_baseline/data_eda/train_all_list.npy')\n",
    "oldtrain =  np.load('/media/workdir/hujh/hujh-new/huaweirader_baseline/data_eda/train_demo.npy')"
   ]
  },
  {
   "cell_type": "code",
   "execution_count": 52,
   "metadata": {},
   "outputs": [],
   "source": [
    "fuck = np.setdiff1d(oldtrain,puretrain,assume_unique=True)"
   ]
  },
  {
   "cell_type": "code",
   "execution_count": 55,
   "metadata": {},
   "outputs": [],
   "source": [
    "hardsave = np.setdiff1d(hardnew,fuck,assume_unique=True)"
   ]
  },
  {
   "cell_type": "code",
   "execution_count": 56,
   "metadata": {},
   "outputs": [
    {
     "data": {
      "text/plain": [
       "(9592,)"
      ]
     },
     "execution_count": 56,
     "metadata": {},
     "output_type": "execute_result"
    }
   ],
   "source": [
    "hardsave.shape"
   ]
  },
  {
   "cell_type": "code",
   "execution_count": 57,
   "metadata": {},
   "outputs": [
    {
     "data": {
      "text/plain": [
       "(9855,)"
      ]
     },
     "execution_count": 57,
     "metadata": {},
     "output_type": "execute_result"
    }
   ],
   "source": [
    "hardnew.shape"
   ]
  },
  {
   "cell_type": "code",
   "execution_count": 58,
   "metadata": {},
   "outputs": [],
   "source": [
    "np.save('/media/workdir/hujh/hujh-new/huaweirader_baseline/data_eda/newhard_train.npy',hardsave)"
   ]
  },
  {
   "cell_type": "code",
   "execution_count": 60,
   "metadata": {},
   "outputs": [],
   "source": [
    "newhard = np.load('/media/workdir/hujh/hujh-new/huaweirader_baseline/data_eda/newhard_train.npy')"
   ]
  },
  {
   "cell_type": "code",
   "execution_count": 61,
   "metadata": {},
   "outputs": [],
   "source": [
    "puretrain = np.load('/media/workdir/hujh/hujh-new/huaweirader_baseline/data_eda/train_all_list.npy')"
   ]
  },
  {
   "cell_type": "code",
   "execution_count": 62,
   "metadata": {},
   "outputs": [],
   "source": [
    "neweak = np.setdiff1d(puretrain,newhard,assume_unique=True)"
   ]
  },
  {
   "cell_type": "code",
   "execution_count": 66,
   "metadata": {},
   "outputs": [],
   "source": [
    "np.save('/media/workdir/hujh/hujh-new/huaweirader_baseline/data_eda/newweak_train.npy',neweak)"
   ]
  },
  {
   "cell_type": "code",
   "execution_count": 65,
   "metadata": {},
   "outputs": [
    {
     "data": {
      "text/plain": [
       "(19279,)"
      ]
     },
     "execution_count": 65,
     "metadata": {},
     "output_type": "execute_result"
    }
   ],
   "source": []
  },
  {
   "cell_type": "code",
   "execution_count": 67,
   "metadata": {},
   "outputs": [],
   "source": [
    "import torch \n",
    "x = torch.randn(1,4,4)"
   ]
  },
  {
   "cell_type": "code",
   "execution_count": 69,
   "metadata": {},
   "outputs": [],
   "source": [
    "w = x.mean()"
   ]
  },
  {
   "cell_type": "code",
   "execution_count": 70,
   "metadata": {},
   "outputs": [
    {
     "data": {
      "text/plain": [
       "tensor(-0.0059)"
      ]
     },
     "execution_count": 70,
     "metadata": {},
     "output_type": "execute_result"
    }
   ],
   "source": [
    "w"
   ]
  },
  {
   "cell_type": "code",
   "execution_count": null,
   "metadata": {},
   "outputs": [],
   "source": []
  }
 ],
 "metadata": {
  "kernelspec": {
   "display_name": "Python 3",
   "language": "python",
   "name": "python3"
  },
  "language_info": {
   "codemirror_mode": {
    "name": "ipython",
    "version": 3
   },
   "file_extension": ".py",
   "mimetype": "text/x-python",
   "name": "python",
   "nbconvert_exporter": "python",
   "pygments_lexer": "ipython3",
   "version": "3.7.3"
  }
 },
 "nbformat": 4,
 "nbformat_minor": 4
}
